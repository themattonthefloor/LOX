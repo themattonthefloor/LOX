{
 "cells": [
  {
   "cell_type": "markdown",
   "metadata": {},
   "source": [
    "## 1. Import Dependancies"
   ]
  },
  {
   "cell_type": "code",
   "execution_count": 1,
   "metadata": {},
   "outputs": [],
   "source": [
    "import pandas as pd                                             # pandas==1.4.1\n",
    "import numpy as np                                              # numpy==1.21.5\n",
    "from matplotlib import pyplot as plt                            # matplotlib==3.5.1\n",
    "import seaborn as sns                                           # seaborn==0.11.2\n",
    "from sklearn.preprocessing import OneHotEncoder, MinMaxScaler   # scikit-learn==1.0.2\n",
    "from sklearn.exceptions import NotFittedError\n",
    "from sklearn.utils import resample\n",
    "from sklearn.ensemble import RandomForestClassifier\n",
    "from sklearn.multioutput import MultiOutputClassifier\n",
    "from sklearn.model_selection import cross_val_score\n",
    "from random import seed, random"
   ]
  },
  {
   "cell_type": "markdown",
   "metadata": {},
   "source": [
    "## 2. Import Data\n",
    "- Data is a .txt file, however, its structure is similar to a .csv but with spaces as delimiters instead of commas.\n",
    "- We can use the pandas.read_csv method to import it as a dataframe object."
   ]
  },
  {
   "cell_type": "code",
   "execution_count": 2,
   "metadata": {},
   "outputs": [
    {
     "data": {
      "text/html": [
       "<div>\n",
       "<style scoped>\n",
       "    .dataframe tbody tr th:only-of-type {\n",
       "        vertical-align: middle;\n",
       "    }\n",
       "\n",
       "    .dataframe tbody tr th {\n",
       "        vertical-align: top;\n",
       "    }\n",
       "\n",
       "    .dataframe thead th {\n",
       "        text-align: right;\n",
       "    }\n",
       "</style>\n",
       "<table border=\"1\" class=\"dataframe\">\n",
       "  <thead>\n",
       "    <tr style=\"text-align: right;\">\n",
       "      <th></th>\n",
       "      <th>od</th>\n",
       "      <th>od_uncertainty</th>\n",
       "      <th>max_ev</th>\n",
       "      <th>max_ev_uncertainty</th>\n",
       "      <th>flux300</th>\n",
       "      <th>mass_total</th>\n",
       "      <th>mass_Ni</th>\n",
       "      <th>energy</th>\n",
       "      <th>mass_distribution</th>\n",
       "      <th>radial_distribution</th>\n",
       "    </tr>\n",
       "  </thead>\n",
       "  <tbody>\n",
       "    <tr>\n",
       "      <th>0</th>\n",
       "      <td>1.940628</td>\n",
       "      <td>0.179354</td>\n",
       "      <td>0.013531</td>\n",
       "      <td>0.000670</td>\n",
       "      <td>0.000003</td>\n",
       "      <td>0.75</td>\n",
       "      <td>0.15</td>\n",
       "      <td>0.75</td>\n",
       "      <td>hed8</td>\n",
       "      <td>hed8</td>\n",
       "    </tr>\n",
       "    <tr>\n",
       "      <th>1</th>\n",
       "      <td>2.071999</td>\n",
       "      <td>0.210287</td>\n",
       "      <td>0.012423</td>\n",
       "      <td>0.000615</td>\n",
       "      <td>0.000003</td>\n",
       "      <td>0.75</td>\n",
       "      <td>0.15</td>\n",
       "      <td>0.75</td>\n",
       "      <td>hed8</td>\n",
       "      <td>mwd</td>\n",
       "    </tr>\n",
       "    <tr>\n",
       "      <th>2</th>\n",
       "      <td>2.007982</td>\n",
       "      <td>0.198804</td>\n",
       "      <td>0.012744</td>\n",
       "      <td>0.000685</td>\n",
       "      <td>0.000003</td>\n",
       "      <td>0.75</td>\n",
       "      <td>0.15</td>\n",
       "      <td>0.75</td>\n",
       "      <td>hed8</td>\n",
       "      <td>N100</td>\n",
       "    </tr>\n",
       "    <tr>\n",
       "      <th>3</th>\n",
       "      <td>1.661535</td>\n",
       "      <td>0.189436</td>\n",
       "      <td>0.009935</td>\n",
       "      <td>0.000349</td>\n",
       "      <td>0.000003</td>\n",
       "      <td>0.75</td>\n",
       "      <td>0.15</td>\n",
       "      <td>0.75</td>\n",
       "      <td>hed8</td>\n",
       "      <td>w7dt</td>\n",
       "    </tr>\n",
       "    <tr>\n",
       "      <th>4</th>\n",
       "      <td>1.907672</td>\n",
       "      <td>0.178607</td>\n",
       "      <td>0.013343</td>\n",
       "      <td>0.000745</td>\n",
       "      <td>0.000003</td>\n",
       "      <td>0.75</td>\n",
       "      <td>0.15</td>\n",
       "      <td>2.00</td>\n",
       "      <td>hed8</td>\n",
       "      <td>hed8</td>\n",
       "    </tr>\n",
       "  </tbody>\n",
       "</table>\n",
       "</div>"
      ],
      "text/plain": [
       "         od  od_uncertainty    max_ev  max_ev_uncertainty   flux300  \\\n",
       "0  1.940628        0.179354  0.013531            0.000670  0.000003   \n",
       "1  2.071999        0.210287  0.012423            0.000615  0.000003   \n",
       "2  2.007982        0.198804  0.012744            0.000685  0.000003   \n",
       "3  1.661535        0.189436  0.009935            0.000349  0.000003   \n",
       "4  1.907672        0.178607  0.013343            0.000745  0.000003   \n",
       "\n",
       "   mass_total  mass_Ni  energy mass_distribution radial_distribution  \n",
       "0        0.75     0.15    0.75              hed8                hed8  \n",
       "1        0.75     0.15    0.75              hed8                 mwd  \n",
       "2        0.75     0.15    0.75              hed8                N100  \n",
       "3        0.75     0.15    0.75              hed8                w7dt  \n",
       "4        0.75     0.15    2.00              hed8                hed8  "
      ]
     },
     "execution_count": 2,
     "metadata": {},
     "output_type": "execute_result"
    }
   ],
   "source": [
    "# Import data and assign column names\n",
    "data_fpath = '../data/GSOC_Data_DataCube.txt'\n",
    "colnames_observable = ['od','od_uncertainty','max_ev','max_ev_uncertainty','flux300']\n",
    "colnames_physical = ['mass_total','mass_Ni','energy','mass_distribution','radial_distribution']\n",
    "df = pd.read_csv(data_fpath, sep=' ', names=colnames_observable+colnames_physical)\n",
    "df.head()"
   ]
  },
  {
   "cell_type": "code",
   "execution_count": 3,
   "metadata": {},
   "outputs": [
    {
     "data": {
      "text/plain": [
       "{'od': '',\n",
       " 'od_uncertainty': '',\n",
       " 'max_ev': 's⁻¹',\n",
       " 'max_ev_uncertainty': 's⁻¹',\n",
       " 'flux300': 'cm⁻²s⁻¹',\n",
       " 'mass_total': 'M☉',\n",
       " 'mass_Ni': 'M☉',\n",
       " 'energy': '10⁵¹ ergs',\n",
       " 'mass_distribution': '',\n",
       " 'radial_distribution': ''}"
      ]
     },
     "execution_count": 3,
     "metadata": {},
     "output_type": "execute_result"
    }
   ],
   "source": [
    "# Creating a mapped dictionary of units\n",
    "units = dict(zip(colnames_observable,['','','s⁻¹','s⁻¹','cm⁻²s⁻¹']))\n",
    "units.update(dict(zip(colnames_physical,['M☉','M☉','10⁵¹ ergs','',''])))\n",
    "units"
   ]
  },
  {
   "cell_type": "code",
   "execution_count": 4,
   "metadata": {},
   "outputs": [
    {
     "name": "stdout",
     "output_type": "stream",
     "text": [
      "<class 'pandas.core.frame.DataFrame'>\n",
      "RangeIndex: 512 entries, 0 to 511\n",
      "Data columns (total 10 columns):\n",
      " #   Column               Non-Null Count  Dtype  \n",
      "---  ------               --------------  -----  \n",
      " 0   od                   512 non-null    float64\n",
      " 1   od_uncertainty       512 non-null    float64\n",
      " 2   max_ev               512 non-null    float64\n",
      " 3   max_ev_uncertainty   512 non-null    float64\n",
      " 4   flux300              512 non-null    float64\n",
      " 5   mass_total           512 non-null    float64\n",
      " 6   mass_Ni              512 non-null    float64\n",
      " 7   energy               512 non-null    float64\n",
      " 8   mass_distribution    512 non-null    object \n",
      " 9   radial_distribution  512 non-null    object \n",
      "dtypes: float64(8), object(2)\n",
      "memory usage: 40.1+ KB\n"
     ]
    }
   ],
   "source": [
    "# Check columns for missing values and data-type\n",
    "df.info()"
   ]
  },
  {
   "cell_type": "markdown",
   "metadata": {},
   "source": [
    "- No missing data present.\n",
    "- Columns 1 through 8 are numerical; 9 and 10 are strings.\n",
    "- 512 data points is limited, we might need to find a way to upsample the dataset."
   ]
  },
  {
   "cell_type": "markdown",
   "metadata": {},
   "source": [
    "## 3. Exploratory Data Analysis"
   ]
  },
  {
   "cell_type": "markdown",
   "metadata": {},
   "source": [
    "### 3.1. Step 1 - Observable Parameters (Input Features)"
   ]
  },
  {
   "cell_type": "code",
   "execution_count": 5,
   "metadata": {},
   "outputs": [
    {
     "data": {
      "text/html": [
       "<div>\n",
       "<style scoped>\n",
       "    .dataframe tbody tr th:only-of-type {\n",
       "        vertical-align: middle;\n",
       "    }\n",
       "\n",
       "    .dataframe tbody tr th {\n",
       "        vertical-align: top;\n",
       "    }\n",
       "\n",
       "    .dataframe thead th {\n",
       "        text-align: right;\n",
       "    }\n",
       "</style>\n",
       "<table border=\"1\" class=\"dataframe\">\n",
       "  <thead>\n",
       "    <tr style=\"text-align: right;\">\n",
       "      <th></th>\n",
       "      <th>od</th>\n",
       "      <th>od_uncertainty</th>\n",
       "      <th>max_ev</th>\n",
       "      <th>max_ev_uncertainty</th>\n",
       "      <th>flux300</th>\n",
       "    </tr>\n",
       "  </thead>\n",
       "  <tbody>\n",
       "    <tr>\n",
       "      <th>mean</th>\n",
       "      <td>2.576275</td>\n",
       "      <td>0.198927</td>\n",
       "      <td>0.012814</td>\n",
       "      <td>0.000512</td>\n",
       "      <td>0.000007</td>\n",
       "    </tr>\n",
       "    <tr>\n",
       "      <th>std</th>\n",
       "      <td>0.391005</td>\n",
       "      <td>0.021055</td>\n",
       "      <td>0.000849</td>\n",
       "      <td>0.000074</td>\n",
       "      <td>0.000004</td>\n",
       "    </tr>\n",
       "    <tr>\n",
       "      <th>min</th>\n",
       "      <td>1.661535</td>\n",
       "      <td>0.133992</td>\n",
       "      <td>0.009842</td>\n",
       "      <td>0.000313</td>\n",
       "      <td>0.000003</td>\n",
       "    </tr>\n",
       "    <tr>\n",
       "      <th>25%</th>\n",
       "      <td>2.321794</td>\n",
       "      <td>0.183659</td>\n",
       "      <td>0.012372</td>\n",
       "      <td>0.000458</td>\n",
       "      <td>0.000003</td>\n",
       "    </tr>\n",
       "    <tr>\n",
       "      <th>50%</th>\n",
       "      <td>2.559251</td>\n",
       "      <td>0.198672</td>\n",
       "      <td>0.012891</td>\n",
       "      <td>0.000501</td>\n",
       "      <td>0.000006</td>\n",
       "    </tr>\n",
       "    <tr>\n",
       "      <th>75%</th>\n",
       "      <td>2.812090</td>\n",
       "      <td>0.215768</td>\n",
       "      <td>0.013388</td>\n",
       "      <td>0.000556</td>\n",
       "      <td>0.000011</td>\n",
       "    </tr>\n",
       "    <tr>\n",
       "      <th>max</th>\n",
       "      <td>3.621963</td>\n",
       "      <td>0.239162</td>\n",
       "      <td>0.014723</td>\n",
       "      <td>0.000817</td>\n",
       "      <td>0.000015</td>\n",
       "    </tr>\n",
       "  </tbody>\n",
       "</table>\n",
       "</div>"
      ],
      "text/plain": [
       "            od  od_uncertainty    max_ev  max_ev_uncertainty   flux300\n",
       "mean  2.576275        0.198927  0.012814            0.000512  0.000007\n",
       "std   0.391005        0.021055  0.000849            0.000074  0.000004\n",
       "min   1.661535        0.133992  0.009842            0.000313  0.000003\n",
       "25%   2.321794        0.183659  0.012372            0.000458  0.000003\n",
       "50%   2.559251        0.198672  0.012891            0.000501  0.000006\n",
       "75%   2.812090        0.215768  0.013388            0.000556  0.000011\n",
       "max   3.621963        0.239162  0.014723            0.000817  0.000015"
      ]
     },
     "execution_count": 5,
     "metadata": {},
     "output_type": "execute_result"
    }
   ],
   "source": [
    "# Show column statistics since all observable parameters are numerical data\n",
    "df_obs = df.loc[:,colnames_observable]\n",
    "df_obs.describe().iloc[1:]"
   ]
  },
  {
   "cell_type": "code",
   "execution_count": 6,
   "metadata": {},
   "outputs": [
    {
     "data": {
      "image/png": "[encoded data removed]",
      "text/plain": [
       "<Figure size 432x288 with 1 Axes>"
      ]
     },
     "metadata": {
      "needs_background": "light"
     },
     "output_type": "display_data"
    }
   ],
   "source": [
    "# Distribution of uncertainties of optical depth compared to a normal distribution\n",
    "fig, ax = plt.subplots()\n",
    "sns.kdeplot(df_obs.od_uncertainty,ax=ax,color='red')\n",
    "normal = np.random.normal(loc=df_obs.od_uncertainty.mean(),\\\n",
    "    scale=df_obs.od_uncertainty.std(),size=10**5)\n",
    "sns.kdeplot(normal,ax=ax,color='grey')\n",
    "plt.show()"
   ]
  },
  {
   "cell_type": "code",
   "execution_count": 7,
   "metadata": {},
   "outputs": [
    {
     "data": {
      "image/png": "[encoded data removed]",
      "text/plain": [
       "<Figure size 432x288 with 1 Axes>"
      ]
     },
     "metadata": {
      "needs_background": "light"
     },
     "output_type": "display_data"
    }
   ],
   "source": [
    "# Distribution of uncertainties of maximum expansion velocity compared to a normal distribution\n",
    "fig, ax = plt.subplots()\n",
    "sns.kdeplot(df_obs.max_ev_uncertainty,ax=ax,color='red')\n",
    "normal = np.random.normal(loc=df_obs.max_ev_uncertainty.mean(),\\\n",
    "    scale=df_obs.max_ev_uncertainty.std(),size=10**5)\n",
    "sns.kdeplot(normal,ax=ax,color='grey')\n",
    "plt.show()"
   ]
  },
  {
   "cell_type": "code",
   "execution_count": 8,
   "metadata": {},
   "outputs": [
    {
     "data": {
      "text/plain": [
       "mean    0.078545\n",
       "std     0.011796\n",
       "min     0.047808\n",
       "25%     0.069775\n",
       "50%     0.078088\n",
       "75%     0.086126\n",
       "max     0.114326\n",
       "dtype: float64"
      ]
     },
     "execution_count": 8,
     "metadata": {},
     "output_type": "execute_result"
    }
   ],
   "source": [
    "# Obtain the relative uncertainties of optical depth\n",
    "od_uncertainty_pct = df_obs.od_uncertainty / df_obs.od\n",
    "od_uncertainty_pct.describe().iloc[1:]"
   ]
  },
  {
   "cell_type": "code",
   "execution_count": 9,
   "metadata": {},
   "outputs": [
    {
     "data": {
      "image/png": "[encoded data removed]",
      "text/plain": [
       "<Figure size 432x288 with 1 Axes>"
      ]
     },
     "metadata": {
      "needs_background": "light"
     },
     "output_type": "display_data"
    }
   ],
   "source": [
    "# Distribution of relative uncertainties of optical depth compared to a normal distribution\n",
    "fig, ax = plt.subplots()\n",
    "sns.kdeplot(od_uncertainty_pct,ax=ax,color='red')\n",
    "normal = np.random.normal(loc=od_uncertainty_pct.mean(),\\\n",
    "    scale=od_uncertainty_pct.std(),size=10**5)\n",
    "sns.kdeplot(normal,ax=ax,color='grey')\n",
    "plt.show()"
   ]
  },
  {
   "cell_type": "code",
   "execution_count": 10,
   "metadata": {},
   "outputs": [
    {
     "data": {
      "text/plain": [
       "mean    0.039927\n",
       "std     0.005138\n",
       "min     0.026519\n",
       "25%     0.036309\n",
       "50%     0.039165\n",
       "75%     0.042926\n",
       "max     0.063529\n",
       "dtype: float64"
      ]
     },
     "execution_count": 10,
     "metadata": {},
     "output_type": "execute_result"
    }
   ],
   "source": [
    "# Obtain the relative uncertainties of maximum expansion velocity compared to a normal distribution\n",
    "max_ev_uncertainty_pct = df_obs.max_ev_uncertainty / df_obs.max_ev\n",
    "max_ev_uncertainty_pct.describe().iloc[1:]"
   ]
  },
  {
   "cell_type": "code",
   "execution_count": 11,
   "metadata": {},
   "outputs": [
    {
     "data": {
      "image/png": "[encoded data removed]",
      "text/plain": [
       "<Figure size 432x288 with 1 Axes>"
      ]
     },
     "metadata": {
      "needs_background": "light"
     },
     "output_type": "display_data"
    }
   ],
   "source": [
    "# Distribution of relative uncertainties of maximum expansion velocity\n",
    "fig, ax = plt.subplots()\n",
    "sns.kdeplot(max_ev_uncertainty_pct,ax=ax,color='red')\n",
    "normal = np.random.normal(loc=max_ev_uncertainty_pct.mean(),\\\n",
    "    scale=max_ev_uncertainty_pct.std(),size=10**5)\n",
    "sns.kdeplot(normal,ax=ax,color='grey')\n",
    "plt.show()"
   ]
  },
  {
   "cell_type": "markdown",
   "metadata": {},
   "source": [
    "- The maximum relative uncertainty for optical depth is 11.4% and is normally distributed.\n",
    "    - mean=0.078545, std=0.011796\n",
    "- The maximum relative uncertainty for the maximum expansion velocity is 6.4% and is normally distributed.\n",
    "    - mean=0.039927, std=0.005138\n",
    "- From the above 4 plots, we can see that for uncertainties, both the absolute and relative uncertainty have a similar percent of standard deviation. This shows that the measurement instruments used to measure optical depth and maximum expansion velocity has both:\n",
    "    - Instrumental Errors (due to its own measurement error), and \n",
    "    - Environmental Errors (due to the magnitude of what its measuring. ie, the larget the optical depth, the larger the uncertainty)"
   ]
  },
  {
   "cell_type": "code",
   "execution_count": 12,
   "metadata": {},
   "outputs": [
    {
     "data": {
      "image/png": "[encoded data removed]",
      "text/plain": [
       "<Figure size 900x900 with 30 Axes>"
      ]
     },
     "metadata": {
      "needs_background": "light"
     },
     "output_type": "display_data"
    }
   ],
   "source": [
    "# Pairplot\n",
    "g = sns.PairGrid(df_obs)\n",
    "g.map_upper(sns.histplot)\n",
    "g.map_lower(sns.kdeplot, fill=True)\n",
    "g.map_diag(sns.histplot, kde=True)\n",
    "plt.show()"
   ]
  },
  {
   "cell_type": "markdown",
   "metadata": {},
   "source": [
    "- Data for optical depth and maximum expansion velocity seems to be normally distributed. \n",
    "- The histogram for emergent flux seems to be missing alot of bins. \n",
    "- Uncertainties of optical depth and maximum expansion velocity seems to be positively correlated. Which further suggests the measurement instruments environmental error.\n",
    "- Optical depth and flux seems to be positively correlated.\n",
    "- Maximum expansion velocity and flux seems to have little relation. \n",
    "- Maximum expansion velocity and optical depth seems to have little relation. "
   ]
  },
  {
   "cell_type": "code",
   "execution_count": 13,
   "metadata": {},
   "outputs": [
    {
     "data": {
      "image/png": "[encoded data removed]",
      "text/plain": [
       "<Figure size 360x360 with 1 Axes>"
      ]
     },
     "metadata": {
      "needs_background": "light"
     },
     "output_type": "display_data"
    }
   ],
   "source": [
    "# Examine flux data\n",
    "sns.displot(df_obs.flux300, binwidth=2.5e-7)\n",
    "plt.show()"
   ]
  },
  {
   "cell_type": "markdown",
   "metadata": {},
   "source": [
    "- Flux values seem to have 4 distinct bins:\n",
    "    - 0.1e-5 to 0.3e-5\n",
    "    - 0.5e-5 to 0.65e-5\n",
    "    - 1.0e-5 to 1.2e-5\n",
    "    - 1.3e-5 to 1.6e-5\n",
    "- We can consider splitting these into 4 categories between the following values: [0, 0.4e-5, 0.85e-5, 1.25e-5, 1.6e-5]"
   ]
  },
  {
   "cell_type": "code",
   "execution_count": 14,
   "metadata": {},
   "outputs": [
    {
     "data": {
      "image/png": "[encoded data removed]",
      "text/plain": [
       "<Figure size 432x288 with 2 Axes>"
      ]
     },
     "metadata": {
      "needs_background": "light"
     },
     "output_type": "display_data"
    }
   ],
   "source": [
    "# Pearsons correlation heatmap of features\n",
    "corr = df_obs.iloc[:,[0,2,4]].corr()\n",
    "mask = np.zeros_like(corr)\n",
    "mask[np.triu_indices_from(mask)] = True\n",
    "sns.heatmap(corr, mask=mask, square=True, annot=True)\n",
    "plt.show()"
   ]
  },
  {
   "cell_type": "markdown",
   "metadata": {},
   "source": [
    "- Since flux is highly positively correlated to optical depth, and moderately negatively correlated to maximum expansion velocity, converting flux to a categorical feature might aid in preventing multicollinearity of our features."
   ]
  },
  {
   "cell_type": "markdown",
   "metadata": {},
   "source": [
    "### 3.2. Step 2 - Physical Parameters (Target Features)"
   ]
  },
  {
   "cell_type": "code",
   "execution_count": 15,
   "metadata": {},
   "outputs": [
    {
     "data": {
      "text/html": [
       "<div>\n",
       "<style scoped>\n",
       "    .dataframe tbody tr th:only-of-type {\n",
       "        vertical-align: middle;\n",
       "    }\n",
       "\n",
       "    .dataframe tbody tr th {\n",
       "        vertical-align: top;\n",
       "    }\n",
       "\n",
       "    .dataframe thead th {\n",
       "        text-align: right;\n",
       "    }\n",
       "</style>\n",
       "<table border=\"1\" class=\"dataframe\">\n",
       "  <thead>\n",
       "    <tr style=\"text-align: right;\">\n",
       "      <th></th>\n",
       "      <th>mass_total</th>\n",
       "      <th>mass_Ni</th>\n",
       "      <th>energy</th>\n",
       "    </tr>\n",
       "  </thead>\n",
       "  <tbody>\n",
       "    <tr>\n",
       "      <th>mean</th>\n",
       "      <td>1.518750</td>\n",
       "      <td>0.393750</td>\n",
       "      <td>1.375000</td>\n",
       "    </tr>\n",
       "    <tr>\n",
       "      <th>std</th>\n",
       "      <td>0.434834</td>\n",
       "      <td>0.230629</td>\n",
       "      <td>0.625611</td>\n",
       "    </tr>\n",
       "    <tr>\n",
       "      <th>min</th>\n",
       "      <td>0.750000</td>\n",
       "      <td>0.150000</td>\n",
       "      <td>0.750000</td>\n",
       "    </tr>\n",
       "    <tr>\n",
       "      <th>25%</th>\n",
       "      <td>1.300000</td>\n",
       "      <td>0.150000</td>\n",
       "      <td>0.750000</td>\n",
       "    </tr>\n",
       "    <tr>\n",
       "      <th>50%</th>\n",
       "      <td>1.600000</td>\n",
       "      <td>0.300000</td>\n",
       "      <td>1.375000</td>\n",
       "    </tr>\n",
       "    <tr>\n",
       "      <th>75%</th>\n",
       "      <td>1.850000</td>\n",
       "      <td>0.600000</td>\n",
       "      <td>2.000000</td>\n",
       "    </tr>\n",
       "    <tr>\n",
       "      <th>max</th>\n",
       "      <td>2.000000</td>\n",
       "      <td>0.750000</td>\n",
       "      <td>2.000000</td>\n",
       "    </tr>\n",
       "  </tbody>\n",
       "</table>\n",
       "</div>"
      ],
      "text/plain": [
       "      mass_total   mass_Ni    energy\n",
       "mean    1.518750  0.393750  1.375000\n",
       "std     0.434834  0.230629  0.625611\n",
       "min     0.750000  0.150000  0.750000\n",
       "25%     1.300000  0.150000  0.750000\n",
       "50%     1.600000  0.300000  1.375000\n",
       "75%     1.850000  0.600000  2.000000\n",
       "max     2.000000  0.750000  2.000000"
      ]
     },
     "execution_count": 15,
     "metadata": {},
     "output_type": "execute_result"
    }
   ],
   "source": [
    "# Show column statistics since all physical parameters that are numerical\n",
    "df_phy = df.loc[:,colnames_physical]\n",
    "df_phy.describe().iloc[1:]"
   ]
  },
  {
   "cell_type": "code",
   "execution_count": 16,
   "metadata": {},
   "outputs": [
    {
     "data": {
      "text/plain": [
       "hed8    128\n",
       "mwd     128\n",
       "N100    128\n",
       "w7dt    128\n",
       "Name: mass_distribution, dtype: int64"
      ]
     },
     "execution_count": 16,
     "metadata": {},
     "output_type": "execute_result"
    }
   ],
   "source": [
    "# Counts of mass distributions\n",
    "df_phy.mass_distribution.value_counts()"
   ]
  },
  {
   "cell_type": "code",
   "execution_count": 17,
   "metadata": {},
   "outputs": [
    {
     "data": {
      "text/plain": [
       "hed8    128\n",
       "mwd     128\n",
       "N100    128\n",
       "w7dt    128\n",
       "Name: radial_distribution, dtype: int64"
      ]
     },
     "execution_count": 17,
     "metadata": {},
     "output_type": "execute_result"
    }
   ],
   "source": [
    "# Counts of radial distributions\n",
    "df_phy.radial_distribution.value_counts()"
   ]
  },
  {
   "cell_type": "code",
   "execution_count": 18,
   "metadata": {},
   "outputs": [
    {
     "data": {
      "text/plain": [
       "hed8-hed8    32\n",
       "hed8-mwd     32\n",
       "hed8-N100    32\n",
       "hed8-w7dt    32\n",
       "mwd-hed8     32\n",
       "mwd-mwd      32\n",
       "mwd-N100     32\n",
       "mwd-w7dt     32\n",
       "N100-hed8    32\n",
       "N100-mwd     32\n",
       "N100-N100    32\n",
       "N100-w7dt    32\n",
       "w7dt-hed8    32\n",
       "w7dt-mwd     32\n",
       "w7dt-N100    32\n",
       "w7dt-w7dt    32\n",
       "dtype: int64"
      ]
     },
     "execution_count": 18,
     "metadata": {},
     "output_type": "execute_result"
    }
   ],
   "source": [
    "# Counts of mass and radial distribution permutations\n",
    "distribution_flags = df_phy.mass_distribution+'-'+df_phy.radial_distribution\n",
    "distribution_flags.value_counts()"
   ]
  },
  {
   "cell_type": "markdown",
   "metadata": {},
   "source": [
    "- It seems that there are 32 points of data for each possible permutation of distribution.\n",
    "- Therefore, we shall next find out how the mass and radial distributions correlate to our numerical data distributions."
   ]
  },
  {
   "cell_type": "code",
   "execution_count": 19,
   "metadata": {},
   "outputs": [
    {
     "data": {
      "image/png": "[encoded data removed]",
      "text/plain": [
       "<Figure size 864x756 with 6 Axes>"
      ]
     },
     "metadata": {
      "needs_background": "light"
     },
     "output_type": "display_data"
    }
   ],
   "source": [
    "fig, axs = plt.subplots(3,2)\n",
    "fig.set_size_inches(12, 10.5)\n",
    "for i, num_col in enumerate(df_phy.columns[:3]):\n",
    "    for j, cat_col in enumerate(df_phy.columns[3:]):\n",
    "        sns.histplot(data=df_phy,x=num_col,hue=cat_col,multiple=\"stack\",ax=axs[i,j])\n",
    "plt.show()"
   ]
  },
  {
   "cell_type": "code",
   "execution_count": 20,
   "metadata": {},
   "outputs": [
    {
     "data": {
      "image/png": "[encoded data removed]",
      "text/plain": [
       "<Figure size 864x756 with 3 Axes>"
      ]
     },
     "metadata": {
      "needs_background": "light"
     },
     "output_type": "display_data"
    }
   ],
   "source": [
    "fig, axs = plt.subplots(3,1)\n",
    "fig.set_size_inches(12, 10.5)\n",
    "for i, num_col in enumerate(df_phy.columns[:3]):\n",
    "    sns.histplot(data=df_phy,x=num_col,hue=distribution_flags,multiple=\"stack\",ax=axs[i],legend=False)\n",
    "plt.show()"
   ]
  },
  {
   "cell_type": "markdown",
   "metadata": {},
   "source": [
    "- It seems like the mass and radial distributions are evenly split into our numerical target data.\n",
    "- I suspect that our numerical data is categorical, lets check."
   ]
  },
  {
   "cell_type": "code",
   "execution_count": 21,
   "metadata": {},
   "outputs": [
    {
     "name": "stdout",
     "output_type": "stream",
     "text": [
      "mass_total:\n",
      "value\tcount\n",
      "1.40    128\n",
      "1.80    128\n",
      "2.00    128\n",
      "0.75     64\n",
      "1.00     64\n",
      "Name: mass_total, dtype: int64\n",
      "\n",
      "mass_Ni:\n",
      "value\tcount\n",
      "0.15    160\n",
      "0.30    160\n",
      "0.60     96\n",
      "0.75     96\n",
      "Name: mass_Ni, dtype: int64\n",
      "\n",
      "energy:\n",
      "value\tcount\n",
      "0.75    256\n",
      "2.00    256\n",
      "Name: energy, dtype: int64\n",
      "\n"
     ]
    }
   ],
   "source": [
    "for col in df_phy.columns[:3]:\n",
    "    print(f'{col}:','value\\tcount',df_phy[col].value_counts(),sep='\\n',end=\"\\n\\n\")"
   ]
  },
  {
   "cell_type": "markdown",
   "metadata": {},
   "source": [
    "- The numerical columns in our physical data is indeed categorical, these can be transformed into ordinal data for further analysis.\n",
    "    - There are 5 distinct values for total mass.\n",
    "    - There are 4 distinct values for nickel mass.\n",
    "    - There are 2 distinct values for energy.\n",
    "- For the categorical columns:\n",
    "    - There are 2 distinct categories for the mass distribution flag.\n",
    "    - There are 2 distinct categories for the radial distribution flag.\n",
    "\n",
    "Next, we will check the distinct combinations in our dataset versus the possible combinations with these categories."
   ]
  },
  {
   "cell_type": "code",
   "execution_count": 22,
   "metadata": {},
   "outputs": [
    {
     "name": "stdout",
     "output_type": "stream",
     "text": [
      "The number of distinct permutions is 512.\n",
      "The number of possible permutions is 640.\n"
     ]
    }
   ],
   "source": [
    "# Get the number of distinct permutions in the target dataset\n",
    "distinct = len(df_phy.value_counts())\n",
    "possible = np.prod([len(df_phy[x].unique()) for x in df_phy.columns])\n",
    "print(f'The number of distinct permutions is {distinct}.')\n",
    "print(f'The number of possible permutions is {possible}.')"
   ]
  },
  {
   "cell_type": "markdown",
   "metadata": {},
   "source": [
    "- This means that there are some combinations of our target features which are either:\n",
    "    1. Not available for in our target dataset.\n",
    "    2. Not possible or cannot exist.\n",
    "- Either way, we will have to train and predict for individual physical targets in order to get a possible prediction on a non-existent target permutation."
   ]
  },
  {
   "cell_type": "markdown",
   "metadata": {},
   "source": [
    "### 3.3. Step 2 - Connection Between Observable and Physical Parameters "
   ]
  },
  {
   "cell_type": "markdown",
   "metadata": {},
   "source": [
    "- Lets have a quick look at the relationship between all parameters\n",
    "- A quick way is to generate a pair plot and a correlation matrix."
   ]
  },
  {
   "cell_type": "code",
   "execution_count": 23,
   "metadata": {},
   "outputs": [
    {
     "data": {
      "image/png": "[encoded data removed]",
      "text/plain": [
       "<Figure size 1080x1080 with 42 Axes>"
      ]
     },
     "metadata": {
      "needs_background": "light"
     },
     "output_type": "display_data"
    }
   ],
   "source": [
    "# Pair plot\n",
    "g = sns.PairGrid(df.iloc[:,[0,2,4,5,6,7]])\n",
    "g.map_upper(sns.histplot)\n",
    "g.map_lower(sns.kdeplot, fill=True)\n",
    "g.map_diag(sns.histplot, kde=True)\n",
    "plt.show()"
   ]
  },
  {
   "cell_type": "markdown",
   "metadata": {},
   "source": [
    "- From the pair plot, the most noticable relationships for each physical parameters are:\n",
    "    - Flux and nickel mass, it is highly positively and linearly correlated. \n",
    "    - OD and total mass, seems to be moderately correlated.\n",
    "    - Energy does not seem correlated to any observable feature. However, it is hard to visualize as there are only 2 values for energy.\n",
    "- Lets look at the correlation matrix."
   ]
  },
  {
   "cell_type": "code",
   "execution_count": 24,
   "metadata": {},
   "outputs": [
    {
     "data": {
      "image/png": "[encoded data removed]",
      "text/plain": [
       "<Figure size 576x576 with 2 Axes>"
      ]
     },
     "metadata": {
      "needs_background": "light"
     },
     "output_type": "display_data"
    }
   ],
   "source": [
    "# Pearsons correlation matrix of all features\n",
    "corr = df.iloc[:,[0,2,4,5,6,7]].corr()\n",
    "mask = np.zeros_like(corr)\n",
    "mask[np.triu_indices_from(mask)] = True\n",
    "plt.figure(figsize=(8,8))\n",
    "sns.heatmap(corr, mask=mask, square=True, annot=True)\n",
    "plt.show()"
   ]
  },
  {
   "cell_type": "markdown",
   "metadata": {},
   "source": [
    "- As expected, energy may be the most difficult target feature to predict as it shows little linear correlation to any input/observable features.\n",
    "- It is possible that the variation in the 4 bins of flux could be useful in determining the energy.\n",
    "- Lets test 1 bin (lowest bin) to verify."
   ]
  },
  {
   "cell_type": "code",
   "execution_count": 25,
   "metadata": {},
   "outputs": [
    {
     "data": {
      "image/png": "[encoded data removed]",
      "text/plain": [
       "<Figure size 576x576 with 2 Axes>"
      ]
     },
     "metadata": {
      "needs_background": "light"
     },
     "output_type": "display_data"
    }
   ],
   "source": [
    "# Test correlation for flux>=<0.4e-5\n",
    "df[df.flux300<0.4e-5]\n",
    "corr = df[df.flux300>=1.25e-5].iloc[:,[0,2,4,5,6,7]].corr()\n",
    "mask = np.zeros_like(corr)\n",
    "mask[np.triu_indices_from(mask)] = True\n",
    "plt.figure(figsize=(8,8))\n",
    "sns.heatmap(corr, mask=mask, square=True, annot=True)\n",
    "plt.show()"
   ]
  },
  {
   "cell_type": "markdown",
   "metadata": {},
   "source": [
    "- The pearson correlation between flux and energy has increased by 3 fold. \n",
    "- With this in mind, we shall maintain the flux column, and add a column in our input dataset which classifies. "
   ]
  },
  {
   "cell_type": "markdown",
   "metadata": {},
   "source": [
    "## 4. Step 3 - Classification\n",
    "- Steps:\n",
    "    - 4.1. Feature Engineer / Pre-process Input Features\n",
    "    - 4.2. Feature Engineer / Pre-process Target Features\n",
    "    - 4.3. Pre-process all features for classification and regression\n",
    "    - 4.4. Retest correlation matrix using classification pre-processor - To see improvements\n",
    "    - 4.5. Create class to upsample dataset\n",
    "    - 4.6. Choose a scaler"
   ]
  },
  {
   "cell_type": "markdown",
   "metadata": {},
   "source": [
    "### 4.1. Feature Engineer / Pre-process Input Features"
   ]
  },
  {
   "cell_type": "markdown",
   "metadata": {},
   "source": [
    "- Recall that we can split the flux column into 4 categories between the following values to create a flux category column: [0, 0.4e-5, 0.85e-5, 1.25e-5, 1.6e-5]\n",
    "- To add onto that, we can also feature engineer the flux values to indicate its deviation from the mean of its own category. I believe that this will be more valuable to the model since the flux for each category has a higher correlation to energy than the full flux range."
   ]
  },
  {
   "cell_type": "code",
   "execution_count": 26,
   "metadata": {},
   "outputs": [],
   "source": [
    "class InputFeaturesPreprocessor:\n",
    "    \"\"\"Class object to pre-process the input features dataset.\n",
    "    Optical density and max expansion velocity columns are left untouched.\n",
    "    Flux is feature engineered into its nominal category and its deviation from category mean.\n",
    "    \"\"\"\n",
    "    def __init__(self):\n",
    "        self.fitted = False\n",
    "\n",
    "    def __get_flux300_category(self, flux):\n",
    "        if flux<0.4e-5:\n",
    "            return 0.0\n",
    "        if flux<0.85e-5:\n",
    "            return 1.0\n",
    "        if flux<1.25e-5:\n",
    "            return 2.0\n",
    "        if flux<1.6e-5:\n",
    "            return 3.0\n",
    "            \n",
    "    def __get_flux300_categoric_means(self, X):\n",
    "        self._flux300 = X.flux300\n",
    "        self._flux300_cat = X.flux300.apply(self.__get_flux300_category)\n",
    "        self._flux_means = {cat:(self._flux300[self._flux300_cat==cat]).mean() for cat in range(4)}\n",
    "    \n",
    "    def __get_flux300_dev_from_mean(self, flux):\n",
    "        cat = self.__get_flux300_category(flux)\n",
    "        mean = self._flux_means[cat]\n",
    "        return mean-flux\n",
    "\n",
    "    def fit(self, X):\n",
    "        \"\"\"Method to fit the dataset classes.\n",
    "        \"\"\"\n",
    "        self.features_names_in_ = list(X.columns)\n",
    "        self.features_names_out_ = self.features_names_in_+['flux300_cat','flux300_dev']\n",
    "        self.features_names_out_.remove('flux300')\n",
    "        self.__get_flux300_categoric_means(X)\n",
    "        self.fitted = True\n",
    "\n",
    "    def transform(self, X):\n",
    "        \"\"\"Method to transform the dataset.\n",
    "        \"\"\"\n",
    "        if self.fitted:\n",
    "            transformed = X.copy()\n",
    "            transformed['flux300_cat'] = transformed.flux300.map(self.__get_flux300_category)\n",
    "            transformed['flux300_dev'] = transformed.flux300.map(self.__get_flux300_dev_from_mean)\n",
    "            transformed.drop(['flux300'],axis=1,inplace=True)\n",
    "            return transformed\n",
    "        else:\n",
    "            raise NotFittedError(\n",
    "                'This preprocessor has yet to be fitted.'\n",
    "            )\n",
    "    def fit_transform(self, X):\n",
    "        \"\"\"Method to fit and then transform the dataset.\n",
    "        \"\"\"\n",
    "        self.fit(X)\n",
    "        return self.transform(X)\n",
    "    \n",
    "    def __get_flux(self, cat_dev):\n",
    "        return self._flux_means[cat_dev[0]]-cat_dev[1]\n",
    "\n",
    "    def inverse_transform(self, X):\n",
    "        \"\"\"Method to inversely transform the dataset.\n",
    "        \"\"\"\n",
    "        if type(X)==np.ndarray:\n",
    "            X = pd.DataFrame(X,columns=self.features_names_out_)\n",
    "        inv_transform = X.copy()\n",
    "        inv_transform['flux300'] = inv_transform[['flux300_cat','flux300_dev']].apply(lambda x: self.__get_flux(x), axis=1)\n",
    "        inv_transform.drop(['flux300_cat','flux300_dev'],axis=1,inplace=True)\n",
    "        return inv_transform\n",
    "        "
   ]
  },
  {
   "cell_type": "code",
   "execution_count": 27,
   "metadata": {},
   "outputs": [
    {
     "data": {
      "text/html": [
       "<div>\n",
       "<style scoped>\n",
       "    .dataframe tbody tr th:only-of-type {\n",
       "        vertical-align: middle;\n",
       "    }\n",
       "\n",
       "    .dataframe tbody tr th {\n",
       "        vertical-align: top;\n",
       "    }\n",
       "\n",
       "    .dataframe thead th {\n",
       "        text-align: right;\n",
       "    }\n",
       "</style>\n",
       "<table border=\"1\" class=\"dataframe\">\n",
       "  <thead>\n",
       "    <tr style=\"text-align: right;\">\n",
       "      <th></th>\n",
       "      <th>od</th>\n",
       "      <th>max_ev</th>\n",
       "      <th>flux300</th>\n",
       "    </tr>\n",
       "  </thead>\n",
       "  <tbody>\n",
       "    <tr>\n",
       "      <th>0</th>\n",
       "      <td>1.940628</td>\n",
       "      <td>0.013531</td>\n",
       "      <td>0.000003</td>\n",
       "    </tr>\n",
       "    <tr>\n",
       "      <th>1</th>\n",
       "      <td>2.071999</td>\n",
       "      <td>0.012423</td>\n",
       "      <td>0.000003</td>\n",
       "    </tr>\n",
       "    <tr>\n",
       "      <th>2</th>\n",
       "      <td>2.007982</td>\n",
       "      <td>0.012744</td>\n",
       "      <td>0.000003</td>\n",
       "    </tr>\n",
       "    <tr>\n",
       "      <th>3</th>\n",
       "      <td>1.661535</td>\n",
       "      <td>0.009935</td>\n",
       "      <td>0.000003</td>\n",
       "    </tr>\n",
       "    <tr>\n",
       "      <th>4</th>\n",
       "      <td>1.907672</td>\n",
       "      <td>0.013343</td>\n",
       "      <td>0.000003</td>\n",
       "    </tr>\n",
       "  </tbody>\n",
       "</table>\n",
       "</div>"
      ],
      "text/plain": [
       "         od    max_ev   flux300\n",
       "0  1.940628  0.013531  0.000003\n",
       "1  2.071999  0.012423  0.000003\n",
       "2  2.007982  0.012744  0.000003\n",
       "3  1.661535  0.009935  0.000003\n",
       "4  1.907672  0.013343  0.000003"
      ]
     },
     "execution_count": 27,
     "metadata": {},
     "output_type": "execute_result"
    }
   ],
   "source": [
    "input = df_obs.iloc[:,[0,2,4]]\n",
    "input.head()"
   ]
  },
  {
   "cell_type": "code",
   "execution_count": 28,
   "metadata": {},
   "outputs": [
    {
     "data": {
      "text/html": [
       "<div>\n",
       "<style scoped>\n",
       "    .dataframe tbody tr th:only-of-type {\n",
       "        vertical-align: middle;\n",
       "    }\n",
       "\n",
       "    .dataframe tbody tr th {\n",
       "        vertical-align: top;\n",
       "    }\n",
       "\n",
       "    .dataframe thead th {\n",
       "        text-align: right;\n",
       "    }\n",
       "</style>\n",
       "<table border=\"1\" class=\"dataframe\">\n",
       "  <thead>\n",
       "    <tr style=\"text-align: right;\">\n",
       "      <th></th>\n",
       "      <th>od</th>\n",
       "      <th>max_ev</th>\n",
       "      <th>flux300_cat</th>\n",
       "      <th>flux300_dev</th>\n",
       "    </tr>\n",
       "  </thead>\n",
       "  <tbody>\n",
       "    <tr>\n",
       "      <th>0</th>\n",
       "      <td>1.940628</td>\n",
       "      <td>0.013531</td>\n",
       "      <td>0.0</td>\n",
       "      <td>1.837554e-07</td>\n",
       "    </tr>\n",
       "    <tr>\n",
       "      <th>1</th>\n",
       "      <td>2.071999</td>\n",
       "      <td>0.012423</td>\n",
       "      <td>0.0</td>\n",
       "      <td>-7.145215e-08</td>\n",
       "    </tr>\n",
       "    <tr>\n",
       "      <th>2</th>\n",
       "      <td>2.007982</td>\n",
       "      <td>0.012744</td>\n",
       "      <td>0.0</td>\n",
       "      <td>-8.485827e-08</td>\n",
       "    </tr>\n",
       "    <tr>\n",
       "      <th>3</th>\n",
       "      <td>1.661535</td>\n",
       "      <td>0.009935</td>\n",
       "      <td>0.0</td>\n",
       "      <td>-1.162521e-08</td>\n",
       "    </tr>\n",
       "    <tr>\n",
       "      <th>4</th>\n",
       "      <td>1.907672</td>\n",
       "      <td>0.013343</td>\n",
       "      <td>0.0</td>\n",
       "      <td>1.759921e-07</td>\n",
       "    </tr>\n",
       "  </tbody>\n",
       "</table>\n",
       "</div>"
      ],
      "text/plain": [
       "         od    max_ev  flux300_cat   flux300_dev\n",
       "0  1.940628  0.013531          0.0  1.837554e-07\n",
       "1  2.071999  0.012423          0.0 -7.145215e-08\n",
       "2  2.007982  0.012744          0.0 -8.485827e-08\n",
       "3  1.661535  0.009935          0.0 -1.162521e-08\n",
       "4  1.907672  0.013343          0.0  1.759921e-07"
      ]
     },
     "execution_count": 28,
     "metadata": {},
     "output_type": "execute_result"
    }
   ],
   "source": [
    "IFP  = InputFeaturesPreprocessor()\n",
    "preprocessed_input = IFP.fit_transform(input)\n",
    "preprocessed_input.head()"
   ]
  },
  {
   "cell_type": "code",
   "execution_count": 29,
   "metadata": {},
   "outputs": [
    {
     "data": {
      "text/html": [
       "<div>\n",
       "<style scoped>\n",
       "    .dataframe tbody tr th:only-of-type {\n",
       "        vertical-align: middle;\n",
       "    }\n",
       "\n",
       "    .dataframe tbody tr th {\n",
       "        vertical-align: top;\n",
       "    }\n",
       "\n",
       "    .dataframe thead th {\n",
       "        text-align: right;\n",
       "    }\n",
       "</style>\n",
       "<table border=\"1\" class=\"dataframe\">\n",
       "  <thead>\n",
       "    <tr style=\"text-align: right;\">\n",
       "      <th></th>\n",
       "      <th>od</th>\n",
       "      <th>max_ev</th>\n",
       "      <th>flux300</th>\n",
       "    </tr>\n",
       "  </thead>\n",
       "  <tbody>\n",
       "    <tr>\n",
       "      <th>0</th>\n",
       "      <td>1.940628</td>\n",
       "      <td>0.013531</td>\n",
       "      <td>0.000003</td>\n",
       "    </tr>\n",
       "    <tr>\n",
       "      <th>1</th>\n",
       "      <td>2.071999</td>\n",
       "      <td>0.012423</td>\n",
       "      <td>0.000003</td>\n",
       "    </tr>\n",
       "    <tr>\n",
       "      <th>2</th>\n",
       "      <td>2.007982</td>\n",
       "      <td>0.012744</td>\n",
       "      <td>0.000003</td>\n",
       "    </tr>\n",
       "    <tr>\n",
       "      <th>3</th>\n",
       "      <td>1.661535</td>\n",
       "      <td>0.009935</td>\n",
       "      <td>0.000003</td>\n",
       "    </tr>\n",
       "    <tr>\n",
       "      <th>4</th>\n",
       "      <td>1.907672</td>\n",
       "      <td>0.013343</td>\n",
       "      <td>0.000003</td>\n",
       "    </tr>\n",
       "  </tbody>\n",
       "</table>\n",
       "</div>"
      ],
      "text/plain": [
       "         od    max_ev   flux300\n",
       "0  1.940628  0.013531  0.000003\n",
       "1  2.071999  0.012423  0.000003\n",
       "2  2.007982  0.012744  0.000003\n",
       "3  1.661535  0.009935  0.000003\n",
       "4  1.907672  0.013343  0.000003"
      ]
     },
     "execution_count": 29,
     "metadata": {},
     "output_type": "execute_result"
    }
   ],
   "source": [
    "IFP.inverse_transform(preprocessed_input).head()"
   ]
  },
  {
   "cell_type": "markdown",
   "metadata": {},
   "source": [
    "### 4.2. Feature Engineer / Pre-process Target Features"
   ]
  },
  {
   "cell_type": "code",
   "execution_count": 30,
   "metadata": {},
   "outputs": [],
   "source": [
    "class TargetFeaturesPreprocessor:\n",
    "    \"\"\"Class object to pre-process the target dataset.\n",
    "    Performs an ordinal (ordered) encoding for the total mass, nickel mass, energy.\n",
    "    Performs a nominal (one-hot) encoding for the mass and radial distribution flags.\n",
    "    \"\"\"\n",
    "    def __init__(self):\n",
    "        self.fitted = False\n",
    "        pass\n",
    "\n",
    "    def fit(self,y):\n",
    "        \"\"\"Method to fit the dataset classes.\n",
    "        \"\"\"\n",
    "        self._mass_total_map = dict(zip(y.mass_total.unique(),range(len(y.mass_total))))\n",
    "        self._mass_Ni_map = dict(zip(y.mass_Ni.unique(),range(len(y.mass_Ni))))\n",
    "        self._energy_map = dict(zip(y.energy.unique(),range(len(y.energy))))\n",
    "        self._mass_distribution_list = y.mass_distribution.unique()\n",
    "        self._radial_distribution_list = y.radial_distribution.unique()\n",
    "        self._enc = OneHotEncoder(categories=[self._mass_distribution_list,self._radial_distribution_list], \\\n",
    "            handle_unknown='ignore')\n",
    "        self.features_names_in_ = list(y.columns)\n",
    "        self.features_names_out_ = list(y.columns[:3]) + \\\n",
    "            ['mass_is_'+x for x in self._mass_distribution_list] + \\\n",
    "            ['rad_is_'+x for x in self._radial_distribution_list]\n",
    "        self.fitted = True\n",
    "        \n",
    "    def transform(self,y):\n",
    "        \"\"\"Method to transform/encode the dataset.\n",
    "        \"\"\"\n",
    "        if self.fitted:\n",
    "            y = y.copy()\n",
    "            y.mass_total = y.mass_total.apply(lambda x: float(self._mass_total_map[x]))\n",
    "            y.mass_Ni = y.mass_Ni.apply(lambda x: float(self._mass_Ni_map[x]))\n",
    "            y.energy = y.energy.apply(lambda x: float(self._energy_map[x]))\n",
    "            dist_df = pd.DataFrame(self._enc.fit_transform(y[['mass_distribution','radial_distribution']]).toarray(), \\\n",
    "                columns=self.features_names_out_[3:])\n",
    "            y.drop(['mass_distribution','radial_distribution'],axis=1,inplace=True)\n",
    "            transformed = pd.concat([y,dist_df],axis=1)\n",
    "            return transformed\n",
    "        else:\n",
    "            raise NotFittedError(\n",
    "                'This preprocessor has yet to be fitted.'\n",
    "            )\n",
    "    \n",
    "    def fit_transform(self,y):\n",
    "        \"\"\"Method to fit and then transform the dataset.\n",
    "        \"\"\"\n",
    "        self.fit(y)\n",
    "        return self.transform(y)\n",
    "    \n",
    "    def inverse_transform(self,y):\n",
    "        \"\"\"Method to inversely transform the dataset.\n",
    "        \"\"\"\n",
    "        if type(y)==np.ndarray:\n",
    "            y = pd.DataFrame(y,columns=self.features_names_out_)\n",
    "        inv_transform = pd.DataFrame()\n",
    "        dist_df = self._enc.inverse_transform(y.iloc[:,3:])\n",
    "        inv_mass_total_map = {v: k for k, v in self._mass_total_map.items()}\n",
    "        inv_mass_Ni_map = {v: k for k, v in self._mass_Ni_map.items()}\n",
    "        inv_energy_map = {v: k for k, v in self._energy_map.items()}\n",
    "        inv_transform['mass_total'] = y.mass_total.apply(round).map(inv_mass_total_map)\n",
    "        inv_transform['mass_Ni'] = y.mass_Ni.apply(round).map(inv_mass_Ni_map)\n",
    "        inv_transform['energy'] = y.energy.apply(round).map(inv_energy_map)\n",
    "        inv_transform['mass_distribution'] = dist_df[:,0]\n",
    "        inv_transform['radial_distribution'] = dist_df[:,1]\n",
    "        return inv_transform\n",
    "        \n"
   ]
  },
  {
   "cell_type": "code",
   "execution_count": 31,
   "metadata": {},
   "outputs": [
    {
     "data": {
      "text/html": [
       "<div>\n",
       "<style scoped>\n",
       "    .dataframe tbody tr th:only-of-type {\n",
       "        vertical-align: middle;\n",
       "    }\n",
       "\n",
       "    .dataframe tbody tr th {\n",
       "        vertical-align: top;\n",
       "    }\n",
       "\n",
       "    .dataframe thead th {\n",
       "        text-align: right;\n",
       "    }\n",
       "</style>\n",
       "<table border=\"1\" class=\"dataframe\">\n",
       "  <thead>\n",
       "    <tr style=\"text-align: right;\">\n",
       "      <th></th>\n",
       "      <th>mass_total</th>\n",
       "      <th>mass_Ni</th>\n",
       "      <th>energy</th>\n",
       "      <th>mass_distribution</th>\n",
       "      <th>radial_distribution</th>\n",
       "    </tr>\n",
       "  </thead>\n",
       "  <tbody>\n",
       "    <tr>\n",
       "      <th>0</th>\n",
       "      <td>0.75</td>\n",
       "      <td>0.15</td>\n",
       "      <td>0.75</td>\n",
       "      <td>hed8</td>\n",
       "      <td>hed8</td>\n",
       "    </tr>\n",
       "    <tr>\n",
       "      <th>1</th>\n",
       "      <td>0.75</td>\n",
       "      <td>0.15</td>\n",
       "      <td>0.75</td>\n",
       "      <td>hed8</td>\n",
       "      <td>mwd</td>\n",
       "    </tr>\n",
       "    <tr>\n",
       "      <th>2</th>\n",
       "      <td>0.75</td>\n",
       "      <td>0.15</td>\n",
       "      <td>0.75</td>\n",
       "      <td>hed8</td>\n",
       "      <td>N100</td>\n",
       "    </tr>\n",
       "    <tr>\n",
       "      <th>3</th>\n",
       "      <td>0.75</td>\n",
       "      <td>0.15</td>\n",
       "      <td>0.75</td>\n",
       "      <td>hed8</td>\n",
       "      <td>w7dt</td>\n",
       "    </tr>\n",
       "    <tr>\n",
       "      <th>4</th>\n",
       "      <td>0.75</td>\n",
       "      <td>0.15</td>\n",
       "      <td>2.00</td>\n",
       "      <td>hed8</td>\n",
       "      <td>hed8</td>\n",
       "    </tr>\n",
       "  </tbody>\n",
       "</table>\n",
       "</div>"
      ],
      "text/plain": [
       "   mass_total  mass_Ni  energy mass_distribution radial_distribution\n",
       "0        0.75     0.15    0.75              hed8                hed8\n",
       "1        0.75     0.15    0.75              hed8                 mwd\n",
       "2        0.75     0.15    0.75              hed8                N100\n",
       "3        0.75     0.15    0.75              hed8                w7dt\n",
       "4        0.75     0.15    2.00              hed8                hed8"
      ]
     },
     "execution_count": 31,
     "metadata": {},
     "output_type": "execute_result"
    }
   ],
   "source": [
    "targets = df_phy\n",
    "targets.head()"
   ]
  },
  {
   "cell_type": "code",
   "execution_count": 32,
   "metadata": {},
   "outputs": [
    {
     "data": {
      "text/html": [
       "<div>\n",
       "<style scoped>\n",
       "    .dataframe tbody tr th:only-of-type {\n",
       "        vertical-align: middle;\n",
       "    }\n",
       "\n",
       "    .dataframe tbody tr th {\n",
       "        vertical-align: top;\n",
       "    }\n",
       "\n",
       "    .dataframe thead th {\n",
       "        text-align: right;\n",
       "    }\n",
       "</style>\n",
       "<table border=\"1\" class=\"dataframe\">\n",
       "  <thead>\n",
       "    <tr style=\"text-align: right;\">\n",
       "      <th></th>\n",
       "      <th>mass_total</th>\n",
       "      <th>mass_Ni</th>\n",
       "      <th>energy</th>\n",
       "      <th>mass_is_hed8</th>\n",
       "      <th>mass_is_mwd</th>\n",
       "      <th>mass_is_N100</th>\n",
       "      <th>mass_is_w7dt</th>\n",
       "      <th>rad_is_hed8</th>\n",
       "      <th>rad_is_mwd</th>\n",
       "      <th>rad_is_N100</th>\n",
       "      <th>rad_is_w7dt</th>\n",
       "    </tr>\n",
       "  </thead>\n",
       "  <tbody>\n",
       "    <tr>\n",
       "      <th>0</th>\n",
       "      <td>0.0</td>\n",
       "      <td>0.0</td>\n",
       "      <td>0.0</td>\n",
       "      <td>1.0</td>\n",
       "      <td>0.0</td>\n",
       "      <td>0.0</td>\n",
       "      <td>0.0</td>\n",
       "      <td>1.0</td>\n",
       "      <td>0.0</td>\n",
       "      <td>0.0</td>\n",
       "      <td>0.0</td>\n",
       "    </tr>\n",
       "    <tr>\n",
       "      <th>1</th>\n",
       "      <td>0.0</td>\n",
       "      <td>0.0</td>\n",
       "      <td>0.0</td>\n",
       "      <td>1.0</td>\n",
       "      <td>0.0</td>\n",
       "      <td>0.0</td>\n",
       "      <td>0.0</td>\n",
       "      <td>0.0</td>\n",
       "      <td>1.0</td>\n",
       "      <td>0.0</td>\n",
       "      <td>0.0</td>\n",
       "    </tr>\n",
       "    <tr>\n",
       "      <th>2</th>\n",
       "      <td>0.0</td>\n",
       "      <td>0.0</td>\n",
       "      <td>0.0</td>\n",
       "      <td>1.0</td>\n",
       "      <td>0.0</td>\n",
       "      <td>0.0</td>\n",
       "      <td>0.0</td>\n",
       "      <td>0.0</td>\n",
       "      <td>0.0</td>\n",
       "      <td>1.0</td>\n",
       "      <td>0.0</td>\n",
       "    </tr>\n",
       "    <tr>\n",
       "      <th>3</th>\n",
       "      <td>0.0</td>\n",
       "      <td>0.0</td>\n",
       "      <td>0.0</td>\n",
       "      <td>1.0</td>\n",
       "      <td>0.0</td>\n",
       "      <td>0.0</td>\n",
       "      <td>0.0</td>\n",
       "      <td>0.0</td>\n",
       "      <td>0.0</td>\n",
       "      <td>0.0</td>\n",
       "      <td>1.0</td>\n",
       "    </tr>\n",
       "    <tr>\n",
       "      <th>4</th>\n",
       "      <td>0.0</td>\n",
       "      <td>0.0</td>\n",
       "      <td>1.0</td>\n",
       "      <td>1.0</td>\n",
       "      <td>0.0</td>\n",
       "      <td>0.0</td>\n",
       "      <td>0.0</td>\n",
       "      <td>1.0</td>\n",
       "      <td>0.0</td>\n",
       "      <td>0.0</td>\n",
       "      <td>0.0</td>\n",
       "    </tr>\n",
       "  </tbody>\n",
       "</table>\n",
       "</div>"
      ],
      "text/plain": [
       "   mass_total  mass_Ni  energy  mass_is_hed8  mass_is_mwd  mass_is_N100  \\\n",
       "0         0.0      0.0     0.0           1.0          0.0           0.0   \n",
       "1         0.0      0.0     0.0           1.0          0.0           0.0   \n",
       "2         0.0      0.0     0.0           1.0          0.0           0.0   \n",
       "3         0.0      0.0     0.0           1.0          0.0           0.0   \n",
       "4         0.0      0.0     1.0           1.0          0.0           0.0   \n",
       "\n",
       "   mass_is_w7dt  rad_is_hed8  rad_is_mwd  rad_is_N100  rad_is_w7dt  \n",
       "0           0.0          1.0         0.0          0.0          0.0  \n",
       "1           0.0          0.0         1.0          0.0          0.0  \n",
       "2           0.0          0.0         0.0          1.0          0.0  \n",
       "3           0.0          0.0         0.0          0.0          1.0  \n",
       "4           0.0          1.0         0.0          0.0          0.0  "
      ]
     },
     "execution_count": 32,
     "metadata": {},
     "output_type": "execute_result"
    }
   ],
   "source": [
    "TFP = TargetFeaturesPreprocessor()\n",
    "preprocessed_targets = TFP.fit_transform(df_phy)\n",
    "preprocessed_targets.head()"
   ]
  },
  {
   "cell_type": "code",
   "execution_count": 33,
   "metadata": {},
   "outputs": [
    {
     "data": {
      "text/html": [
       "<div>\n",
       "<style scoped>\n",
       "    .dataframe tbody tr th:only-of-type {\n",
       "        vertical-align: middle;\n",
       "    }\n",
       "\n",
       "    .dataframe tbody tr th {\n",
       "        vertical-align: top;\n",
       "    }\n",
       "\n",
       "    .dataframe thead th {\n",
       "        text-align: right;\n",
       "    }\n",
       "</style>\n",
       "<table border=\"1\" class=\"dataframe\">\n",
       "  <thead>\n",
       "    <tr style=\"text-align: right;\">\n",
       "      <th></th>\n",
       "      <th>mass_total</th>\n",
       "      <th>mass_Ni</th>\n",
       "      <th>energy</th>\n",
       "      <th>mass_distribution</th>\n",
       "      <th>radial_distribution</th>\n",
       "    </tr>\n",
       "  </thead>\n",
       "  <tbody>\n",
       "    <tr>\n",
       "      <th>0</th>\n",
       "      <td>0.75</td>\n",
       "      <td>0.15</td>\n",
       "      <td>0.75</td>\n",
       "      <td>hed8</td>\n",
       "      <td>hed8</td>\n",
       "    </tr>\n",
       "    <tr>\n",
       "      <th>1</th>\n",
       "      <td>0.75</td>\n",
       "      <td>0.15</td>\n",
       "      <td>0.75</td>\n",
       "      <td>hed8</td>\n",
       "      <td>mwd</td>\n",
       "    </tr>\n",
       "    <tr>\n",
       "      <th>2</th>\n",
       "      <td>0.75</td>\n",
       "      <td>0.15</td>\n",
       "      <td>0.75</td>\n",
       "      <td>hed8</td>\n",
       "      <td>N100</td>\n",
       "    </tr>\n",
       "    <tr>\n",
       "      <th>3</th>\n",
       "      <td>0.75</td>\n",
       "      <td>0.15</td>\n",
       "      <td>0.75</td>\n",
       "      <td>hed8</td>\n",
       "      <td>w7dt</td>\n",
       "    </tr>\n",
       "    <tr>\n",
       "      <th>4</th>\n",
       "      <td>0.75</td>\n",
       "      <td>0.15</td>\n",
       "      <td>2.00</td>\n",
       "      <td>hed8</td>\n",
       "      <td>hed8</td>\n",
       "    </tr>\n",
       "  </tbody>\n",
       "</table>\n",
       "</div>"
      ],
      "text/plain": [
       "   mass_total  mass_Ni  energy mass_distribution radial_distribution\n",
       "0        0.75     0.15    0.75              hed8                hed8\n",
       "1        0.75     0.15    0.75              hed8                 mwd\n",
       "2        0.75     0.15    0.75              hed8                N100\n",
       "3        0.75     0.15    0.75              hed8                w7dt\n",
       "4        0.75     0.15    2.00              hed8                hed8"
      ]
     },
     "execution_count": 33,
     "metadata": {},
     "output_type": "execute_result"
    }
   ],
   "source": [
    "TFP.inverse_transform(preprocessed_targets).head()"
   ]
  },
  {
   "cell_type": "markdown",
   "metadata": {},
   "source": [
    "### 4.3 Preprocess dataset\n",
    "- Here we will create a preprocessor which will create either a dataset for training a classification model or a regression model. \n",
    "- We will select the model later"
   ]
  },
  {
   "cell_type": "code",
   "execution_count": 34,
   "metadata": {},
   "outputs": [],
   "source": [
    "class Preprocessor:\n",
    "    def __init__(self, mode='classification'):\n",
    "        self.mode_is_regression = mode=='regression'\n",
    "        self.IFP = InputFeaturesPreprocessor()\n",
    "        if self.mode_is_regression:\n",
    "            self.TFP = TargetFeaturesPreprocessor()\n",
    "\n",
    "    def fit(self, X, y):\n",
    "        self.X_features_in = list(X.columns)\n",
    "        self.y_features_in = list(y.columns)\n",
    "        self.IFP.fit(X)\n",
    "        self.X_features_out = self.IFP.features_names_out_\n",
    "        if self.mode_is_regression:\n",
    "            self.TFP.fit(y)\n",
    "            self.y_features_out = self.TFP.features_names_out_\n",
    "        else:\n",
    "            self.y_features_out = self.y_features_in\n",
    "\n",
    "    def transform(self, X, y):\n",
    "        transformed_X = self.IFP.transform(X)\n",
    "        if self.mode_is_regression:\n",
    "            transformed_y = self.TFP.transform(y)\n",
    "        else:\n",
    "            transformed_y = y\n",
    "        return transformed_X, transformed_y\n",
    "    \n",
    "    def fit_transform(self, X, y):\n",
    "        self.fit(X, y)\n",
    "        return self.transform(X, y)\n",
    "    \n",
    "    def inverse_transform(self, X, y):\n",
    "        inv_X = IFP.inverse_transform(X)\n",
    "        if self.mode_is_regression:\n",
    "            inv_y = TFP.inverse_transform(y)\n",
    "        else:\n",
    "            inv_y = y\n",
    "        return inv_X, inv_y"
   ]
  },
  {
   "cell_type": "markdown",
   "metadata": {},
   "source": [
    "Now to test:"
   ]
  },
  {
   "cell_type": "code",
   "execution_count": 35,
   "metadata": {},
   "outputs": [
    {
     "data": {
      "text/html": [
       "<div>\n",
       "<style scoped>\n",
       "    .dataframe tbody tr th:only-of-type {\n",
       "        vertical-align: middle;\n",
       "    }\n",
       "\n",
       "    .dataframe tbody tr th {\n",
       "        vertical-align: top;\n",
       "    }\n",
       "\n",
       "    .dataframe thead th {\n",
       "        text-align: right;\n",
       "    }\n",
       "</style>\n",
       "<table border=\"1\" class=\"dataframe\">\n",
       "  <thead>\n",
       "    <tr style=\"text-align: right;\">\n",
       "      <th></th>\n",
       "      <th>od</th>\n",
       "      <th>max_ev</th>\n",
       "      <th>flux300</th>\n",
       "    </tr>\n",
       "  </thead>\n",
       "  <tbody>\n",
       "    <tr>\n",
       "      <th>0</th>\n",
       "      <td>1.940628</td>\n",
       "      <td>0.013531</td>\n",
       "      <td>0.000003</td>\n",
       "    </tr>\n",
       "    <tr>\n",
       "      <th>1</th>\n",
       "      <td>2.071999</td>\n",
       "      <td>0.012423</td>\n",
       "      <td>0.000003</td>\n",
       "    </tr>\n",
       "    <tr>\n",
       "      <th>2</th>\n",
       "      <td>2.007982</td>\n",
       "      <td>0.012744</td>\n",
       "      <td>0.000003</td>\n",
       "    </tr>\n",
       "    <tr>\n",
       "      <th>3</th>\n",
       "      <td>1.661535</td>\n",
       "      <td>0.009935</td>\n",
       "      <td>0.000003</td>\n",
       "    </tr>\n",
       "    <tr>\n",
       "      <th>4</th>\n",
       "      <td>1.907672</td>\n",
       "      <td>0.013343</td>\n",
       "      <td>0.000003</td>\n",
       "    </tr>\n",
       "  </tbody>\n",
       "</table>\n",
       "</div>"
      ],
      "text/plain": [
       "         od    max_ev   flux300\n",
       "0  1.940628  0.013531  0.000003\n",
       "1  2.071999  0.012423  0.000003\n",
       "2  2.007982  0.012744  0.000003\n",
       "3  1.661535  0.009935  0.000003\n",
       "4  1.907672  0.013343  0.000003"
      ]
     },
     "execution_count": 35,
     "metadata": {},
     "output_type": "execute_result"
    }
   ],
   "source": [
    "X = df.iloc[:,[0,2,4]]\n",
    "X.head()"
   ]
  },
  {
   "cell_type": "code",
   "execution_count": 36,
   "metadata": {},
   "outputs": [
    {
     "data": {
      "text/html": [
       "<div>\n",
       "<style scoped>\n",
       "    .dataframe tbody tr th:only-of-type {\n",
       "        vertical-align: middle;\n",
       "    }\n",
       "\n",
       "    .dataframe tbody tr th {\n",
       "        vertical-align: top;\n",
       "    }\n",
       "\n",
       "    .dataframe thead th {\n",
       "        text-align: right;\n",
       "    }\n",
       "</style>\n",
       "<table border=\"1\" class=\"dataframe\">\n",
       "  <thead>\n",
       "    <tr style=\"text-align: right;\">\n",
       "      <th></th>\n",
       "      <th>mass_total</th>\n",
       "      <th>mass_Ni</th>\n",
       "      <th>energy</th>\n",
       "      <th>mass_distribution</th>\n",
       "      <th>radial_distribution</th>\n",
       "    </tr>\n",
       "  </thead>\n",
       "  <tbody>\n",
       "    <tr>\n",
       "      <th>0</th>\n",
       "      <td>0.75</td>\n",
       "      <td>0.15</td>\n",
       "      <td>0.75</td>\n",
       "      <td>hed8</td>\n",
       "      <td>hed8</td>\n",
       "    </tr>\n",
       "    <tr>\n",
       "      <th>1</th>\n",
       "      <td>0.75</td>\n",
       "      <td>0.15</td>\n",
       "      <td>0.75</td>\n",
       "      <td>hed8</td>\n",
       "      <td>mwd</td>\n",
       "    </tr>\n",
       "    <tr>\n",
       "      <th>2</th>\n",
       "      <td>0.75</td>\n",
       "      <td>0.15</td>\n",
       "      <td>0.75</td>\n",
       "      <td>hed8</td>\n",
       "      <td>N100</td>\n",
       "    </tr>\n",
       "    <tr>\n",
       "      <th>3</th>\n",
       "      <td>0.75</td>\n",
       "      <td>0.15</td>\n",
       "      <td>0.75</td>\n",
       "      <td>hed8</td>\n",
       "      <td>w7dt</td>\n",
       "    </tr>\n",
       "    <tr>\n",
       "      <th>4</th>\n",
       "      <td>0.75</td>\n",
       "      <td>0.15</td>\n",
       "      <td>2.00</td>\n",
       "      <td>hed8</td>\n",
       "      <td>hed8</td>\n",
       "    </tr>\n",
       "  </tbody>\n",
       "</table>\n",
       "</div>"
      ],
      "text/plain": [
       "   mass_total  mass_Ni  energy mass_distribution radial_distribution\n",
       "0        0.75     0.15    0.75              hed8                hed8\n",
       "1        0.75     0.15    0.75              hed8                 mwd\n",
       "2        0.75     0.15    0.75              hed8                N100\n",
       "3        0.75     0.15    0.75              hed8                w7dt\n",
       "4        0.75     0.15    2.00              hed8                hed8"
      ]
     },
     "execution_count": 36,
     "metadata": {},
     "output_type": "execute_result"
    }
   ],
   "source": [
    "y = df.iloc[:,5:]\n",
    "y.head()"
   ]
  },
  {
   "cell_type": "code",
   "execution_count": 37,
   "metadata": {},
   "outputs": [],
   "source": [
    "P = Preprocessor(mode='classification')\n",
    "transformed_X, transformed_y = P.fit_transform(X,y)"
   ]
  },
  {
   "cell_type": "code",
   "execution_count": 38,
   "metadata": {},
   "outputs": [
    {
     "data": {
      "text/html": [
       "<div>\n",
       "<style scoped>\n",
       "    .dataframe tbody tr th:only-of-type {\n",
       "        vertical-align: middle;\n",
       "    }\n",
       "\n",
       "    .dataframe tbody tr th {\n",
       "        vertical-align: top;\n",
       "    }\n",
       "\n",
       "    .dataframe thead th {\n",
       "        text-align: right;\n",
       "    }\n",
       "</style>\n",
       "<table border=\"1\" class=\"dataframe\">\n",
       "  <thead>\n",
       "    <tr style=\"text-align: right;\">\n",
       "      <th></th>\n",
       "      <th>od</th>\n",
       "      <th>max_ev</th>\n",
       "      <th>flux300_cat</th>\n",
       "      <th>flux300_dev</th>\n",
       "    </tr>\n",
       "  </thead>\n",
       "  <tbody>\n",
       "    <tr>\n",
       "      <th>0</th>\n",
       "      <td>1.940628</td>\n",
       "      <td>0.013531</td>\n",
       "      <td>0.0</td>\n",
       "      <td>1.837554e-07</td>\n",
       "    </tr>\n",
       "    <tr>\n",
       "      <th>1</th>\n",
       "      <td>2.071999</td>\n",
       "      <td>0.012423</td>\n",
       "      <td>0.0</td>\n",
       "      <td>-7.145215e-08</td>\n",
       "    </tr>\n",
       "    <tr>\n",
       "      <th>2</th>\n",
       "      <td>2.007982</td>\n",
       "      <td>0.012744</td>\n",
       "      <td>0.0</td>\n",
       "      <td>-8.485827e-08</td>\n",
       "    </tr>\n",
       "    <tr>\n",
       "      <th>3</th>\n",
       "      <td>1.661535</td>\n",
       "      <td>0.009935</td>\n",
       "      <td>0.0</td>\n",
       "      <td>-1.162521e-08</td>\n",
       "    </tr>\n",
       "    <tr>\n",
       "      <th>4</th>\n",
       "      <td>1.907672</td>\n",
       "      <td>0.013343</td>\n",
       "      <td>0.0</td>\n",
       "      <td>1.759921e-07</td>\n",
       "    </tr>\n",
       "  </tbody>\n",
       "</table>\n",
       "</div>"
      ],
      "text/plain": [
       "         od    max_ev  flux300_cat   flux300_dev\n",
       "0  1.940628  0.013531          0.0  1.837554e-07\n",
       "1  2.071999  0.012423          0.0 -7.145215e-08\n",
       "2  2.007982  0.012744          0.0 -8.485827e-08\n",
       "3  1.661535  0.009935          0.0 -1.162521e-08\n",
       "4  1.907672  0.013343          0.0  1.759921e-07"
      ]
     },
     "execution_count": 38,
     "metadata": {},
     "output_type": "execute_result"
    }
   ],
   "source": [
    "transformed_X.head()"
   ]
  },
  {
   "cell_type": "code",
   "execution_count": 39,
   "metadata": {},
   "outputs": [
    {
     "data": {
      "text/html": [
       "<div>\n",
       "<style scoped>\n",
       "    .dataframe tbody tr th:only-of-type {\n",
       "        vertical-align: middle;\n",
       "    }\n",
       "\n",
       "    .dataframe tbody tr th {\n",
       "        vertical-align: top;\n",
       "    }\n",
       "\n",
       "    .dataframe thead th {\n",
       "        text-align: right;\n",
       "    }\n",
       "</style>\n",
       "<table border=\"1\" class=\"dataframe\">\n",
       "  <thead>\n",
       "    <tr style=\"text-align: right;\">\n",
       "      <th></th>\n",
       "      <th>mass_total</th>\n",
       "      <th>mass_Ni</th>\n",
       "      <th>energy</th>\n",
       "      <th>mass_distribution</th>\n",
       "      <th>radial_distribution</th>\n",
       "    </tr>\n",
       "  </thead>\n",
       "  <tbody>\n",
       "    <tr>\n",
       "      <th>0</th>\n",
       "      <td>0.75</td>\n",
       "      <td>0.15</td>\n",
       "      <td>0.75</td>\n",
       "      <td>hed8</td>\n",
       "      <td>hed8</td>\n",
       "    </tr>\n",
       "    <tr>\n",
       "      <th>1</th>\n",
       "      <td>0.75</td>\n",
       "      <td>0.15</td>\n",
       "      <td>0.75</td>\n",
       "      <td>hed8</td>\n",
       "      <td>mwd</td>\n",
       "    </tr>\n",
       "    <tr>\n",
       "      <th>2</th>\n",
       "      <td>0.75</td>\n",
       "      <td>0.15</td>\n",
       "      <td>0.75</td>\n",
       "      <td>hed8</td>\n",
       "      <td>N100</td>\n",
       "    </tr>\n",
       "    <tr>\n",
       "      <th>3</th>\n",
       "      <td>0.75</td>\n",
       "      <td>0.15</td>\n",
       "      <td>0.75</td>\n",
       "      <td>hed8</td>\n",
       "      <td>w7dt</td>\n",
       "    </tr>\n",
       "    <tr>\n",
       "      <th>4</th>\n",
       "      <td>0.75</td>\n",
       "      <td>0.15</td>\n",
       "      <td>2.00</td>\n",
       "      <td>hed8</td>\n",
       "      <td>hed8</td>\n",
       "    </tr>\n",
       "  </tbody>\n",
       "</table>\n",
       "</div>"
      ],
      "text/plain": [
       "   mass_total  mass_Ni  energy mass_distribution radial_distribution\n",
       "0        0.75     0.15    0.75              hed8                hed8\n",
       "1        0.75     0.15    0.75              hed8                 mwd\n",
       "2        0.75     0.15    0.75              hed8                N100\n",
       "3        0.75     0.15    0.75              hed8                w7dt\n",
       "4        0.75     0.15    2.00              hed8                hed8"
      ]
     },
     "execution_count": 39,
     "metadata": {},
     "output_type": "execute_result"
    }
   ],
   "source": [
    "transformed_y.head()"
   ]
  },
  {
   "cell_type": "markdown",
   "metadata": {},
   "source": [
    "### 4.4. Retest correlation matrix using regression preprocessor\n",
    "- Lets regenerate the correlation matrix to see if we get better correlation between our input and target features.\n",
    "    - Specifically, kinetic energy previously had low correlation to any observable parameter."
   ]
  },
  {
   "cell_type": "code",
   "execution_count": 40,
   "metadata": {},
   "outputs": [],
   "source": [
    "preprocessed_df = pd.concat([preprocessed_input,preprocessed_targets],axis=1)"
   ]
  },
  {
   "cell_type": "code",
   "execution_count": 41,
   "metadata": {},
   "outputs": [
    {
     "data": {
      "image/png": "[encoded data removed]",
      "text/plain": [
       "<Figure size 576x576 with 2 Axes>"
      ]
     },
     "metadata": {
      "needs_background": "light"
     },
     "output_type": "display_data"
    }
   ],
   "source": [
    "# Initial correlation matrix\n",
    "corr = abs(df.iloc[:,[0,2,4,5,6,7]].corr())\n",
    "plt.figure(figsize=(8,8))\n",
    "sns.heatmap(corr, square=True, annot=True)\n",
    "plt.show()"
   ]
  },
  {
   "cell_type": "code",
   "execution_count": 42,
   "metadata": {},
   "outputs": [
    {
     "data": {
      "image/png": "[encoded data removed]",
      "text/plain": [
       "<Figure size 1152x1152 with 2 Axes>"
      ]
     },
     "metadata": {
      "needs_background": "light"
     },
     "output_type": "display_data"
    }
   ],
   "source": [
    "# Correlation matrix after feature engineering\n",
    "corr = abs(preprocessed_df.corr())\n",
    "plt.figure(figsize=(16,16))\n",
    "sns.heatmap(corr, square=True, annot=True)\n",
    "plt.show()"
   ]
  },
  {
   "cell_type": "markdown",
   "metadata": {},
   "source": [
    "- From our initial correlation matrix, flux had an absolute correlation of 0.0014 to energy.\n",
    "- After feature engineering flux deviation, it had and absolute correlation of 0.029 correlation to energy."
   ]
  },
  {
   "cell_type": "markdown",
   "metadata": {},
   "source": [
    "### 4.5. Create class to upsample dataset"
   ]
  },
  {
   "cell_type": "markdown",
   "metadata": {},
   "source": [
    "- Since our dataset came with uncertainties for optical depth and maximum expansion velocity, we can use these uncertainties to upsample our training dataset to accomodate for these uncertainties.\n",
    "- The definition of uncertainty is unclear in the problem statement. Therefore, we shall make an assumption that an uncertainty value sets a bounding range for the measured value. \n",
    "    - ie. estimated optical_depth = 2.0, and uncertainty = 0.5, then actual optical_depth is between 1.5 and 2.5.\n",
    "- Using the uncertainties, we shall use a random number generator to generate numbers between the possible range of values for each data point. "
   ]
  },
  {
   "cell_type": "code",
   "execution_count": 43,
   "metadata": {},
   "outputs": [
    {
     "name": "stdout",
     "output_type": "stream",
     "text": [
      "<class 'pandas.core.frame.DataFrame'>\n",
      "RangeIndex: 512 entries, 0 to 511\n",
      "Data columns (total 10 columns):\n",
      " #   Column               Non-Null Count  Dtype  \n",
      "---  ------               --------------  -----  \n",
      " 0   od                   512 non-null    float64\n",
      " 1   od_uncertainty       512 non-null    float64\n",
      " 2   max_ev               512 non-null    float64\n",
      " 3   max_ev_uncertainty   512 non-null    float64\n",
      " 4   flux300              512 non-null    float64\n",
      " 5   mass_total           512 non-null    float64\n",
      " 6   mass_Ni              512 non-null    float64\n",
      " 7   energy               512 non-null    float64\n",
      " 8   mass_distribution    512 non-null    object \n",
      " 9   radial_distribution  512 non-null    object \n",
      "dtypes: float64(8), object(2)\n",
      "memory usage: 40.1+ KB\n"
     ]
    }
   ],
   "source": [
    "df.info()"
   ]
  },
  {
   "cell_type": "markdown",
   "metadata": {},
   "source": [
    "- The original dataset has 512 rows, lets create a custom class to resample our data to 100,000 rows."
   ]
  },
  {
   "cell_type": "code",
   "execution_count": 44,
   "metadata": {},
   "outputs": [],
   "source": [
    "class Resampler:\n",
    "    def __init__(self, random_seed=0):\n",
    "        seed(random_seed)\n",
    "\n",
    "    def __random_value_generator(self, value_uncertainty):\n",
    "        value, uncertainty = value_uncertainty\n",
    "        _min = value-uncertainty\n",
    "        _range = 2*uncertainty\n",
    "        value = _min + _range*random()\n",
    "        return value\n",
    "\n",
    "    def upsample(self, df, n_samples):\n",
    "        \"\"\"Method to upsample the dataset.\n",
    "        For rows more than the original dataset, random values are generated according to the range of its uncertainty.\n",
    "        \"\"\"\n",
    "        self.n_samples = n_samples\n",
    "        assert n_samples>=len(df), \"n_samples must be greater than length of input dataframe.\"\n",
    "        n_generate = n_samples-len(df)\n",
    "        resampled_df = resample(df, n_samples=n_generate)\n",
    "        resampled_df['od'] = resampled_df[['od','od_uncertainty']].apply(self.__random_value_generator, axis=1)\n",
    "        resampled_df['max_ev'] = resampled_df[['max_ev','max_ev_uncertainty']].apply(self.__random_value_generator, axis=1)\n",
    "        resampled_df = pd.concat([df,resampled_df],axis=0)\n",
    "        resampled_df.drop(['od_uncertainty','max_ev_uncertainty'], axis=1, inplace=True)\n",
    "        return resampled_df"
   ]
  },
  {
   "cell_type": "code",
   "execution_count": 45,
   "metadata": {},
   "outputs": [
    {
     "data": {
      "text/html": [
       "<div>\n",
       "<style scoped>\n",
       "    .dataframe tbody tr th:only-of-type {\n",
       "        vertical-align: middle;\n",
       "    }\n",
       "\n",
       "    .dataframe tbody tr th {\n",
       "        vertical-align: top;\n",
       "    }\n",
       "\n",
       "    .dataframe thead th {\n",
       "        text-align: right;\n",
       "    }\n",
       "</style>\n",
       "<table border=\"1\" class=\"dataframe\">\n",
       "  <thead>\n",
       "    <tr style=\"text-align: right;\">\n",
       "      <th></th>\n",
       "      <th>od</th>\n",
       "      <th>max_ev</th>\n",
       "      <th>flux300</th>\n",
       "      <th>mass_total</th>\n",
       "      <th>mass_Ni</th>\n",
       "      <th>energy</th>\n",
       "      <th>mass_distribution</th>\n",
       "      <th>radial_distribution</th>\n",
       "    </tr>\n",
       "  </thead>\n",
       "  <tbody>\n",
       "    <tr>\n",
       "      <th>0</th>\n",
       "      <td>1.940628</td>\n",
       "      <td>0.013531</td>\n",
       "      <td>0.000003</td>\n",
       "      <td>0.75</td>\n",
       "      <td>0.15</td>\n",
       "      <td>0.75</td>\n",
       "      <td>hed8</td>\n",
       "      <td>hed8</td>\n",
       "    </tr>\n",
       "    <tr>\n",
       "      <th>1</th>\n",
       "      <td>2.071999</td>\n",
       "      <td>0.012423</td>\n",
       "      <td>0.000003</td>\n",
       "      <td>0.75</td>\n",
       "      <td>0.15</td>\n",
       "      <td>0.75</td>\n",
       "      <td>hed8</td>\n",
       "      <td>mwd</td>\n",
       "    </tr>\n",
       "    <tr>\n",
       "      <th>2</th>\n",
       "      <td>2.007982</td>\n",
       "      <td>0.012744</td>\n",
       "      <td>0.000003</td>\n",
       "      <td>0.75</td>\n",
       "      <td>0.15</td>\n",
       "      <td>0.75</td>\n",
       "      <td>hed8</td>\n",
       "      <td>N100</td>\n",
       "    </tr>\n",
       "    <tr>\n",
       "      <th>3</th>\n",
       "      <td>1.661535</td>\n",
       "      <td>0.009935</td>\n",
       "      <td>0.000003</td>\n",
       "      <td>0.75</td>\n",
       "      <td>0.15</td>\n",
       "      <td>0.75</td>\n",
       "      <td>hed8</td>\n",
       "      <td>w7dt</td>\n",
       "    </tr>\n",
       "    <tr>\n",
       "      <th>4</th>\n",
       "      <td>1.907672</td>\n",
       "      <td>0.013343</td>\n",
       "      <td>0.000003</td>\n",
       "      <td>0.75</td>\n",
       "      <td>0.15</td>\n",
       "      <td>2.00</td>\n",
       "      <td>hed8</td>\n",
       "      <td>hed8</td>\n",
       "    </tr>\n",
       "    <tr>\n",
       "      <th>...</th>\n",
       "      <td>...</td>\n",
       "      <td>...</td>\n",
       "      <td>...</td>\n",
       "      <td>...</td>\n",
       "      <td>...</td>\n",
       "      <td>...</td>\n",
       "      <td>...</td>\n",
       "      <td>...</td>\n",
       "    </tr>\n",
       "    <tr>\n",
       "      <th>371</th>\n",
       "      <td>2.619326</td>\n",
       "      <td>0.013776</td>\n",
       "      <td>0.000011</td>\n",
       "      <td>2.00</td>\n",
       "      <td>0.60</td>\n",
       "      <td>0.75</td>\n",
       "      <td>N100</td>\n",
       "      <td>w7dt</td>\n",
       "    </tr>\n",
       "    <tr>\n",
       "      <th>388</th>\n",
       "      <td>2.023539</td>\n",
       "      <td>0.013136</td>\n",
       "      <td>0.000003</td>\n",
       "      <td>0.75</td>\n",
       "      <td>0.15</td>\n",
       "      <td>2.00</td>\n",
       "      <td>w7dt</td>\n",
       "      <td>hed8</td>\n",
       "    </tr>\n",
       "    <tr>\n",
       "      <th>262</th>\n",
       "      <td>2.059638</td>\n",
       "      <td>0.011703</td>\n",
       "      <td>0.000003</td>\n",
       "      <td>0.75</td>\n",
       "      <td>0.15</td>\n",
       "      <td>2.00</td>\n",
       "      <td>N100</td>\n",
       "      <td>N100</td>\n",
       "    </tr>\n",
       "    <tr>\n",
       "      <th>115</th>\n",
       "      <td>2.552258</td>\n",
       "      <td>0.013248</td>\n",
       "      <td>0.000011</td>\n",
       "      <td>2.00</td>\n",
       "      <td>0.60</td>\n",
       "      <td>0.75</td>\n",
       "      <td>hed8</td>\n",
       "      <td>w7dt</td>\n",
       "    </tr>\n",
       "    <tr>\n",
       "      <th>478</th>\n",
       "      <td>2.981102</td>\n",
       "      <td>0.011161</td>\n",
       "      <td>0.000014</td>\n",
       "      <td>1.80</td>\n",
       "      <td>0.75</td>\n",
       "      <td>2.00</td>\n",
       "      <td>w7dt</td>\n",
       "      <td>N100</td>\n",
       "    </tr>\n",
       "  </tbody>\n",
       "</table>\n",
       "<p>100000 rows × 8 columns</p>\n",
       "</div>"
      ],
      "text/plain": [
       "           od    max_ev   flux300  mass_total  mass_Ni  energy  \\\n",
       "0    1.940628  0.013531  0.000003        0.75     0.15    0.75   \n",
       "1    2.071999  0.012423  0.000003        0.75     0.15    0.75   \n",
       "2    2.007982  0.012744  0.000003        0.75     0.15    0.75   \n",
       "3    1.661535  0.009935  0.000003        0.75     0.15    0.75   \n",
       "4    1.907672  0.013343  0.000003        0.75     0.15    2.00   \n",
       "..        ...       ...       ...         ...      ...     ...   \n",
       "371  2.619326  0.013776  0.000011        2.00     0.60    0.75   \n",
       "388  2.023539  0.013136  0.000003        0.75     0.15    2.00   \n",
       "262  2.059638  0.011703  0.000003        0.75     0.15    2.00   \n",
       "115  2.552258  0.013248  0.000011        2.00     0.60    0.75   \n",
       "478  2.981102  0.011161  0.000014        1.80     0.75    2.00   \n",
       "\n",
       "    mass_distribution radial_distribution  \n",
       "0                hed8                hed8  \n",
       "1                hed8                 mwd  \n",
       "2                hed8                N100  \n",
       "3                hed8                w7dt  \n",
       "4                hed8                hed8  \n",
       "..                ...                 ...  \n",
       "371              N100                w7dt  \n",
       "388              w7dt                hed8  \n",
       "262              N100                N100  \n",
       "115              hed8                w7dt  \n",
       "478              w7dt                N100  \n",
       "\n",
       "[100000 rows x 8 columns]"
      ]
     },
     "execution_count": 45,
     "metadata": {},
     "output_type": "execute_result"
    }
   ],
   "source": [
    "RS = Resampler()\n",
    "resampled_df = RS.upsample(df,n_samples=100000)\n",
    "resampled_df"
   ]
  },
  {
   "cell_type": "code",
   "execution_count": 46,
   "metadata": {},
   "outputs": [
    {
     "data": {
      "text/html": [
       "<div>\n",
       "<style scoped>\n",
       "    .dataframe tbody tr th:only-of-type {\n",
       "        vertical-align: middle;\n",
       "    }\n",
       "\n",
       "    .dataframe tbody tr th {\n",
       "        vertical-align: top;\n",
       "    }\n",
       "\n",
       "    .dataframe thead th {\n",
       "        text-align: right;\n",
       "    }\n",
       "</style>\n",
       "<table border=\"1\" class=\"dataframe\">\n",
       "  <thead>\n",
       "    <tr style=\"text-align: right;\">\n",
       "      <th></th>\n",
       "      <th>od</th>\n",
       "      <th>max_ev</th>\n",
       "      <th>flux300</th>\n",
       "      <th>mass_total</th>\n",
       "      <th>mass_Ni</th>\n",
       "      <th>energy</th>\n",
       "      <th>mass_distribution</th>\n",
       "      <th>radial_distribution</th>\n",
       "    </tr>\n",
       "  </thead>\n",
       "  <tbody>\n",
       "    <tr>\n",
       "      <th>0</th>\n",
       "      <td>1.940628</td>\n",
       "      <td>0.013531</td>\n",
       "      <td>0.000003</td>\n",
       "      <td>0.75</td>\n",
       "      <td>0.15</td>\n",
       "      <td>0.75</td>\n",
       "      <td>hed8</td>\n",
       "      <td>hed8</td>\n",
       "    </tr>\n",
       "    <tr>\n",
       "      <th>0</th>\n",
       "      <td>1.909784</td>\n",
       "      <td>0.013854</td>\n",
       "      <td>0.000003</td>\n",
       "      <td>0.75</td>\n",
       "      <td>0.15</td>\n",
       "      <td>0.75</td>\n",
       "      <td>hed8</td>\n",
       "      <td>hed8</td>\n",
       "    </tr>\n",
       "    <tr>\n",
       "      <th>0</th>\n",
       "      <td>2.025313</td>\n",
       "      <td>0.013812</td>\n",
       "      <td>0.000003</td>\n",
       "      <td>0.75</td>\n",
       "      <td>0.15</td>\n",
       "      <td>0.75</td>\n",
       "      <td>hed8</td>\n",
       "      <td>hed8</td>\n",
       "    </tr>\n",
       "    <tr>\n",
       "      <th>0</th>\n",
       "      <td>2.005491</td>\n",
       "      <td>0.014071</td>\n",
       "      <td>0.000003</td>\n",
       "      <td>0.75</td>\n",
       "      <td>0.15</td>\n",
       "      <td>0.75</td>\n",
       "      <td>hed8</td>\n",
       "      <td>hed8</td>\n",
       "    </tr>\n",
       "    <tr>\n",
       "      <th>0</th>\n",
       "      <td>2.007150</td>\n",
       "      <td>0.013324</td>\n",
       "      <td>0.000003</td>\n",
       "      <td>0.75</td>\n",
       "      <td>0.15</td>\n",
       "      <td>0.75</td>\n",
       "      <td>hed8</td>\n",
       "      <td>hed8</td>\n",
       "    </tr>\n",
       "  </tbody>\n",
       "</table>\n",
       "</div>"
      ],
      "text/plain": [
       "         od    max_ev   flux300  mass_total  mass_Ni  energy  \\\n",
       "0  1.940628  0.013531  0.000003        0.75     0.15    0.75   \n",
       "0  1.909784  0.013854  0.000003        0.75     0.15    0.75   \n",
       "0  2.025313  0.013812  0.000003        0.75     0.15    0.75   \n",
       "0  2.005491  0.014071  0.000003        0.75     0.15    0.75   \n",
       "0  2.007150  0.013324  0.000003        0.75     0.15    0.75   \n",
       "\n",
       "  mass_distribution radial_distribution  \n",
       "0              hed8                hed8  \n",
       "0              hed8                hed8  \n",
       "0              hed8                hed8  \n",
       "0              hed8                hed8  \n",
       "0              hed8                hed8  "
      ]
     },
     "execution_count": 46,
     "metadata": {},
     "output_type": "execute_result"
    }
   ],
   "source": [
    "# Get resampled data created by the first original values\n",
    "resampled_df.loc[0].head()"
   ]
  },
  {
   "cell_type": "markdown",
   "metadata": {},
   "source": [
    "- The first row in the above dataframs is the from the original dataset,\n",
    "- The following lines are created at random based on the uncertainty values for columns \"od\" and \"max_ev\"."
   ]
  },
  {
   "cell_type": "code",
   "execution_count": 47,
   "metadata": {},
   "outputs": [
    {
     "name": "stdout",
     "output_type": "stream",
     "text": [
      "1.80    25138\n",
      "2.00    25065\n",
      "1.40    24791\n",
      "1.00    12507\n",
      "0.75    12499\n",
      "Name: mass_total, dtype: int64\n",
      "0.15    31245\n",
      "0.30    31093\n",
      "0.75    18959\n",
      "0.60    18703\n",
      "Name: mass_Ni, dtype: int64\n",
      "0.75    50129\n",
      "2.00    49871\n",
      "Name: energy, dtype: int64\n",
      "w7dt    25213\n",
      "mwd     24963\n",
      "N100    24955\n",
      "hed8    24869\n",
      "Name: mass_distribution, dtype: int64\n",
      "N100    25051\n",
      "w7dt    25014\n",
      "mwd     24989\n",
      "hed8    24946\n",
      "Name: radial_distribution, dtype: int64\n"
     ]
    }
   ],
   "source": [
    "for col in resampled_df.loc[:,'mass_total':].columns:\n",
    "    print(resampled_df[col].value_counts())"
   ]
  },
  {
   "cell_type": "markdown",
   "metadata": {},
   "source": [
    "- Note that for our target features, we have some class imbalance for the total mass and nickel mass. However, this could be improved by resampling based on class counts, however, I will not be doing this for this evaluation."
   ]
  },
  {
   "cell_type": "markdown",
   "metadata": {},
   "source": [
    "### 4.6. Select scaler\n",
    "- Lets test out a Min-Max scaler, which should scale our data to values 0 to 1. This should work well as we do not seem to have any columns with extreme outliers."
   ]
  },
  {
   "cell_type": "code",
   "execution_count": 48,
   "metadata": {},
   "outputs": [
    {
     "data": {
      "text/plain": [
       "array([0.14236338, 0.75565508, 0.        , 0.58125093, 0.        ,\n",
       "       0.        , 0.        , 1.        , 0.        , 0.        ,\n",
       "       0.        , 1.        , 0.        , 0.        , 0.        ])"
      ]
     },
     "execution_count": 48,
     "metadata": {},
     "output_type": "execute_result"
    }
   ],
   "source": [
    "scaler = MinMaxScaler()\n",
    "scaled_preprocessed_data = scaler.fit_transform(preprocessed_df)\n",
    "scaled_preprocessed_data[0]"
   ]
  },
  {
   "cell_type": "markdown",
   "metadata": {},
   "source": [
    "## 5. Model Pipeline and Metrics"
   ]
  },
  {
   "cell_type": "markdown",
   "metadata": {},
   "source": [
    "- 5.1. Upsample dataset\n",
    "- 5.2. Pre-process data\n",
    "- 5.3. Scaling\n",
    "- 5.4. Model selection & Cross Validation Metrics"
   ]
  },
  {
   "cell_type": "markdown",
   "metadata": {},
   "source": [
    "### 5.1. Upsample Dataset"
   ]
  },
  {
   "cell_type": "code",
   "execution_count": 49,
   "metadata": {},
   "outputs": [
    {
     "name": "stdout",
     "output_type": "stream",
     "text": [
      "Data has been upsampled from 512 rows to 100000 rows.\n",
      "X:\n",
      "          od    max_ev   flux300\n",
      "0  1.940628  0.013531  0.000003\n",
      "1  2.071999  0.012423  0.000003\n",
      "2  2.007982  0.012744  0.000003\n",
      "3  1.661535  0.009935  0.000003\n",
      "4  1.907672  0.013343  0.000003\n",
      "y:\n",
      "    mass_total  mass_Ni  energy mass_distribution radial_distribution\n",
      "0        0.75     0.15    0.75              hed8                hed8\n",
      "1        0.75     0.15    0.75              hed8                 mwd\n",
      "2        0.75     0.15    0.75              hed8                N100\n",
      "3        0.75     0.15    0.75              hed8                w7dt\n",
      "4        0.75     0.15    2.00              hed8                hed8\n"
     ]
    }
   ],
   "source": [
    "R = Resampler()\n",
    "upsampled_df = R.upsample(df, n_samples=100000)\n",
    "print(f'Data has been upsampled from {len(df)} rows to {R.n_samples} rows.')\n",
    "X = upsampled_df[['od','max_ev','flux300']]\n",
    "y = upsampled_df[['mass_total','mass_Ni','energy','mass_distribution','radial_distribution']]\n",
    "print('X:\\n',X.head())\n",
    "print('y:\\n',y.head())\n"
   ]
  },
  {
   "cell_type": "markdown",
   "metadata": {},
   "source": [
    "### 5.2. Pre-process data"
   ]
  },
  {
   "cell_type": "code",
   "execution_count": 50,
   "metadata": {},
   "outputs": [
    {
     "name": "stdout",
     "output_type": "stream",
     "text": [
      "X:\n",
      "          od    max_ev  flux300_cat   flux300_dev\n",
      "0  1.940628  0.013531          0.0  1.836436e-07\n",
      "1  2.071999  0.012423          0.0 -7.156399e-08\n",
      "2  2.007982  0.012744          0.0 -8.497011e-08\n",
      "3  1.661535  0.009935          0.0 -1.173705e-08\n",
      "4  1.907672  0.013343          0.0  1.758803e-07\n",
      "y:\n",
      "    mass_total  mass_Ni  energy mass_distribution radial_distribution\n",
      "0        0.75     0.15    0.75              hed8                hed8\n",
      "1        0.75     0.15    0.75              hed8                 mwd\n",
      "2        0.75     0.15    0.75              hed8                N100\n",
      "3        0.75     0.15    0.75              hed8                w7dt\n",
      "4        0.75     0.15    2.00              hed8                hed8\n"
     ]
    }
   ],
   "source": [
    "preprocessor = Preprocessor(mode='classification')\n",
    "X, y = preprocessor.fit_transform(X, y)\n",
    "print('X:\\n',X.head())\n",
    "print('y:\\n',y.head())\n"
   ]
  },
  {
   "cell_type": "markdown",
   "metadata": {},
   "source": [
    "### 5.3. Scaling"
   ]
  },
  {
   "cell_type": "code",
   "execution_count": 51,
   "metadata": {},
   "outputs": [
    {
     "name": "stdout",
     "output_type": "stream",
     "text": [
      "X:\n",
      " [[0.19572453 0.70083771 0.         0.57987551]\n",
      " [0.25124824 0.51075806 0.         0.42006559]\n",
      " [0.22419126 0.56587346 0.         0.41167073]\n",
      " [0.07776643 0.08385602 0.         0.45752897]\n",
      " [0.18179547 0.66861302 0.         0.57501418]]\n"
     ]
    }
   ],
   "source": [
    "scaler = MinMaxScaler()\n",
    "X = scaler.fit_transform(X)\n",
    "print('X:\\n',X[:5])\n"
   ]
  },
  {
   "cell_type": "code",
   "execution_count": 52,
   "metadata": {},
   "outputs": [
    {
     "name": "stdout",
     "output_type": "stream",
     "text": [
      "y:\n",
      " [['0.75' '0.15' '0.75' 'hed8' 'hed8']\n",
      " ['0.75' '0.15' '0.75' 'hed8' 'mwd']\n",
      " ['0.75' '0.15' '0.75' 'hed8' 'N100']\n",
      " ['0.75' '0.15' '0.75' 'hed8' 'w7dt']\n",
      " ['0.75' '0.15' '2.0' 'hed8' 'hed8']]\n"
     ]
    }
   ],
   "source": [
    "y = y.astype(str).values\n",
    "print('y:\\n',y[:5])"
   ]
  },
  {
   "cell_type": "markdown",
   "metadata": {},
   "source": [
    "### 5.4. Model selection & Cross Validation Metrics"
   ]
  },
  {
   "cell_type": "markdown",
   "metadata": {},
   "source": [
    "- Lets try using a random forest classifier.\n",
    "- We can use its default parameters as a baseline and see how it performs.\n",
    "- The random forest classifier's default metric is class mean accuracy, this should be enough to get a clear idea of how well our model performs."
   ]
  },
  {
   "cell_type": "code",
   "execution_count": 53,
   "metadata": {},
   "outputs": [
    {
     "data": {
      "text/plain": [
       "MultiOutputClassifier(estimator=RandomForestClassifier(n_jobs=16), n_jobs=16)"
      ]
     },
     "execution_count": 53,
     "metadata": {},
     "output_type": "execute_result"
    }
   ],
   "source": [
    "# Model selection\n",
    "clf = RandomForestClassifier(n_jobs=16)\n",
    "# For multi-output\n",
    "multi_clf = MultiOutputClassifier(clf,n_jobs=16)\n",
    "multi_clf"
   ]
  },
  {
   "cell_type": "code",
   "execution_count": 54,
   "metadata": {},
   "outputs": [
    {
     "data": {
      "text/plain": [
       "array([0.9957 , 0.99465, 0.99445, 0.99355, 0.9945 ])"
      ]
     },
     "execution_count": 54,
     "metadata": {},
     "output_type": "execute_result"
    }
   ],
   "source": [
    "# Cross validation scoring\n",
    "scoring = ['accuracy','precision','recall','f1_macro','f1_samples']\n",
    "scores = cross_val_score(multi_clf, X, y, cv=5)\n",
    "scores"
   ]
  },
  {
   "cell_type": "code",
   "execution_count": 55,
   "metadata": {},
   "outputs": [
    {
     "name": "stdout",
     "output_type": "stream",
     "text": [
      "With a 5-fold cross-validation, we have obtained a mean class accuracy of 0.9945700000000001 with a standard deviation of 0.0006845436436049915.\n"
     ]
    }
   ],
   "source": [
    "print(f'With a 5-fold cross-validation, we have obtained a mean class \\\n",
    "accuracy of {scores.mean()} with a standard deviation of {scores.std()}.')"
   ]
  },
  {
   "cell_type": "markdown",
   "metadata": {},
   "source": [
    "- We have obtained very good results (99.46% mean accuracy) for our baseline classifier and therefore shall not improve on it further.\n",
    "- However, lets retrain on the full set of data prior to performing inference on the test cases."
   ]
  },
  {
   "cell_type": "markdown",
   "metadata": {},
   "source": [
    "## 6. Test Cases"
   ]
  },
  {
   "cell_type": "markdown",
   "metadata": {},
   "source": [
    "- Before performing a prediction on the 3 test cases, lets train on the full model."
   ]
  },
  {
   "cell_type": "code",
   "execution_count": 56,
   "metadata": {},
   "outputs": [
    {
     "data": {
      "text/plain": [
       "MultiOutputClassifier(estimator=RandomForestClassifier(n_jobs=16), n_jobs=16)"
      ]
     },
     "execution_count": 56,
     "metadata": {},
     "output_type": "execute_result"
    }
   ],
   "source": [
    "# Train/fit on full dataset\n",
    "multi_clf.fit(X,y)"
   ]
  },
  {
   "cell_type": "code",
   "execution_count": 57,
   "metadata": {},
   "outputs": [
    {
     "name": "stdout",
     "output_type": "stream",
     "text": [
      "[3.35, 0.015, 1.2e-05] --> [[0.79139237 0.95296311 0.66666667 0.06670807]]\n",
      "[2.54, 0.013, 5.02e-06] --> [[0.44904768 0.60980161 0.33333333 0.93216011]]\n",
      "[2.46, 0.013, 1.03e-05] --> [[0.41523585 0.60980161 0.66666667 1.13124102]]\n"
     ]
    }
   ],
   "source": [
    "# Prepare the test case inputs for inference\n",
    "def prep_test_input(od, max_ev, flux300, fitted_preprocessor, fitted_scaler):\n",
    "    \"\"\"Function to perform preprocessing and scaling on the test cases\n",
    "    \"\"\"\n",
    "    test_case = pd.DataFrame([[od,max_ev,flux300]], columns=fitted_preprocessor.X_features_in)\n",
    "    test_case, _ = fitted_preprocessor.transform(X=test_case, y=None)\n",
    "    test_case = fitted_scaler.transform(test_case)\n",
    "    return test_case\n",
    "\n",
    "# Test case 1\n",
    "test_case_1 = [3.35,0.015,1.20e-5]\n",
    "test_case_1_processed = prep_test_input(*test_case_1, \n",
    "    fitted_preprocessor=preprocessor,\n",
    "    fitted_scaler=scaler)\n",
    "print(test_case_1,'-->',test_case_1_processed)\n",
    "\n",
    "# Test case 2\n",
    "test_case_2 = [2.54,0.013,5.02e-6]\n",
    "test_case_2_processed = prep_test_input(*test_case_2, \n",
    "    fitted_preprocessor=preprocessor,\n",
    "    fitted_scaler=scaler)\n",
    "print(test_case_2,'-->',test_case_2_processed)\n",
    "\n",
    "# Test case 3\n",
    "test_case_3 = [2.46,0.013,1.03e-5]\n",
    "test_case_3_processed = prep_test_input(*test_case_3, \n",
    "    fitted_preprocessor=preprocessor,\n",
    "    fitted_scaler=scaler)\n",
    "print(test_case_3,'-->',test_case_3_processed)"
   ]
  },
  {
   "cell_type": "code",
   "execution_count": 58,
   "metadata": {},
   "outputs": [],
   "source": [
    "def display_prediction(input, results, units):\n",
    "    \"\"\"Function to print the inference results.\"\"\"\n",
    "    print('Observable/Input Parameters:')\n",
    "    print(f'\\tOptical depth = {input[0]}')\n",
    "    print(f'\\tMax. Expansion Velocity = {input[1]} {units[\"max_ev\"]}')\n",
    "    print(f'\\tEmergent SNela Flex = {input[2]} {units[\"flux300\"]}')\n",
    "    \n",
    "    results = results[0]\n",
    "    print('Predicted Physical Parameters:')\n",
    "    print(f'\\tTotal Mass = {results[0]} {units[\"mass_total\"]}')\n",
    "    print(f'\\tNickle Mass = {results[1]} {units[\"mass_Ni\"]}')\n",
    "    print(f'\\tExplosion Energy = {results[2]} {units[\"energy\"]}')\n",
    "    print(f'\\tInitial SNela mass distribution flag = {results[3]}')\n",
    "    print(f'\\tInitial Nickle mass distribution flag = {results[4]}')"
   ]
  },
  {
   "cell_type": "code",
   "execution_count": 59,
   "metadata": {},
   "outputs": [
    {
     "name": "stdout",
     "output_type": "stream",
     "text": [
      "TEST CASE 1\n",
      "Observable/Input Parameters:\n",
      "\tOptical depth = 3.35\n",
      "\tMax. Expansion Velocity = 0.015 s⁻¹\n",
      "\tEmergent SNela Flex = 1.2e-05 cm⁻²s⁻¹\n",
      "Predicted Physical Parameters:\n",
      "\tTotal Mass = 1.8 M☉\n",
      "\tNickle Mass = 0.6 M☉\n",
      "\tExplosion Energy = 2.0 10⁵¹ ergs\n",
      "\tInitial SNela mass distribution flag = N100\n",
      "\tInitial Nickle mass distribution flag = N100\n"
     ]
    }
   ],
   "source": [
    "print('TEST CASE 1')\n",
    "display_prediction(test_case_1, multi_clf.predict(test_case_1_processed), units)"
   ]
  },
  {
   "cell_type": "code",
   "execution_count": 60,
   "metadata": {},
   "outputs": [
    {
     "name": "stdout",
     "output_type": "stream",
     "text": [
      "\n",
      "TEST CASE 2\n",
      "Observable/Input Parameters:\n",
      "\tOptical depth = 2.54\n",
      "\tMax. Expansion Velocity = 0.013 s⁻¹\n",
      "\tEmergent SNela Flex = 5.02e-06 cm⁻²s⁻¹\n",
      "Predicted Physical Parameters:\n",
      "\tTotal Mass = 2.0 M☉\n",
      "\tNickle Mass = 0.3 M☉\n",
      "\tExplosion Energy = 2.0 10⁵¹ ergs\n",
      "\tInitial SNela mass distribution flag = hed8\n",
      "\tInitial Nickle mass distribution flag = hed8\n"
     ]
    }
   ],
   "source": [
    "print('\\nTEST CASE 2')\n",
    "display_prediction(test_case_2, multi_clf.predict(test_case_2_processed), units)"
   ]
  },
  {
   "cell_type": "code",
   "execution_count": 61,
   "metadata": {},
   "outputs": [
    {
     "name": "stdout",
     "output_type": "stream",
     "text": [
      "\n",
      "TEST CASE 3\n",
      "Observable/Input Parameters:\n",
      "\tOptical depth = 2.46\n",
      "\tMax. Expansion Velocity = 0.013 s⁻¹\n",
      "\tEmergent SNela Flex = 1.03e-05 cm⁻²s⁻¹\n",
      "Predicted Physical Parameters:\n",
      "\tTotal Mass = 1.4 M☉\n",
      "\tNickle Mass = 0.6 M☉\n",
      "\tExplosion Energy = 2.0 10⁵¹ ergs\n",
      "\tInitial SNela mass distribution flag = hed8\n",
      "\tInitial Nickle mass distribution flag = hed8\n"
     ]
    }
   ],
   "source": [
    "print('\\nTEST CASE 3')\n",
    "display_prediction(test_case_3, multi_clf.predict(test_case_3_processed), units)"
   ]
  },
  {
   "cell_type": "markdown",
   "metadata": {},
   "source": [
    "- Notes on pipeline:\n",
    "    - for a production pipeline, the user requirements will need to be understood.\n",
    "    - inference speed is fast, but can be improved via usage of other models. \n",
    "    - model performance (99.4% accuracy) is good, but can be improved via usage of other models as well."
   ]
  }
 ],
 "metadata": {
  "interpreter": {
   "hash": "ff13f9f7e12313db00f18c9e0ba7a84db413d17658c2de6b9899b6761a1fa7c3"
  },
  "kernelspec": {
   "display_name": "Python 3.10.4 ('LOX')",
   "language": "python",
   "name": "python3"
  },
  "language_info": {
   "codemirror_mode": {
    "name": "ipython",
    "version": 3
   },
   "file_extension": ".py",
   "mimetype": "text/x-python",
   "name": "python",
   "nbconvert_exporter": "python",
   "pygments_lexer": "ipython3",
   "version": "3.10.4"
  },
  "orig_nbformat": 4
 },
 "nbformat": 4,
 "nbformat_minor": 2
}
